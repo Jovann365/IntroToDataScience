{
 "cells": [
  {
   "metadata": {},
   "cell_type": "markdown",
   "source": [
    "# Exercise 1 - Data Gathering\n",
    "## Scraping\n",
    "Import\n",
    "necessary\n",
    "libraries\n",
    "for this exercise:\n",
    "    - requests\n",
    "- BeautifulSoup(bs4)\n",
    "- pandas"
   ],
   "id": "d4e9d658224887fe"
  },
  {
   "metadata": {
    "ExecuteTime": {
     "end_time": "2025-10-29T17:58:44.446475Z",
     "start_time": "2025-10-29T17:58:44.444183Z"
    }
   },
   "cell_type": "code",
   "source": [
    "import numpy as np\n",
    "import requests\n",
    "from bs4 import BeautifulSoup\n",
    "import pandas as pd\n",
    "from debugpy.common.timestamp import current"
   ],
   "id": "3173d3590a4b4cb",
   "outputs": [],
   "execution_count": 99
  },
  {
   "metadata": {},
   "cell_type": "markdown",
   "source": "Accessing website and gathering data from https://klimi.mk/.",
   "id": "fc9546df172a9db9"
  },
  {
   "metadata": {
    "ExecuteTime": {
     "end_time": "2025-10-29T17:56:47.637180Z",
     "start_time": "2025-10-29T17:56:47.314690Z"
    }
   },
   "cell_type": "code",
   "source": [
    "response = requests.get(\"https://klimi.mk/\")\n",
    "response"
   ],
   "id": "5e218f1002767e59",
   "outputs": [
    {
     "data": {
      "text/plain": [
       "<Response [200]>"
      ]
     },
     "execution_count": 36,
     "metadata": {},
     "output_type": "execute_result"
    }
   ],
   "execution_count": 36
  },
  {
   "metadata": {
    "ExecuteTime": {
     "end_time": "2025-10-29T17:56:47.645735Z",
     "start_time": "2025-10-29T17:56:47.643754Z"
    }
   },
   "cell_type": "code",
   "source": "print(response.text[:512])",
   "id": "2cdf0cf43b049816",
   "outputs": [
    {
     "name": "stdout",
     "output_type": "stream",
     "text": [
      "<!doctype html>\n",
      "<html lang=\"en\">\n",
      "<head>\n",
      "    <meta charset=\"utf-8\">\n",
      "    <meta name=\"viewport\" content=\"width=device-width, initial-scale=1\">\n",
      "                <meta property=\"fb:app_id\" content=\"308558492587260\" />\n",
      "        <meta property=\"og:url\" content=\"https://klimi.mk\" />\n",
      "        <meta property=\"og:image\" content=\"https://klimi.mk/public/storage/main/fb.png\" />\n",
      "        <meta property=\"og:title\" content=\"КЛИМИ.мк - резиденцијални и комерцијални клима уреди\" />\n",
      "        <meta property=\"og:type\" content=\"artic\n"
     ]
    }
   ],
   "execution_count": 37
  },
  {
   "metadata": {},
   "cell_type": "markdown",
   "source": [
    "Using\n",
    "Beautiful\n",
    "Soup\n",
    "to\n",
    "parse\n",
    "the\n",
    "HTML\n",
    "elements."
   ],
   "id": "30322211494281e2"
  },
  {
   "metadata": {
    "ExecuteTime": {
     "end_time": "2025-10-29T17:56:47.736246Z",
     "start_time": "2025-10-29T17:56:47.661618Z"
    }
   },
   "cell_type": "code",
   "source": [
    "soup = BeautifulSoup(response.text, \"html.parser\")\n",
    "print(soup.prettify()[:512])"
   ],
   "id": "34bf45f7dd7a4f6c",
   "outputs": [
    {
     "name": "stdout",
     "output_type": "stream",
     "text": [
      "<!DOCTYPE html>\n",
      "<html lang=\"en\">\n",
      " <head>\n",
      "  <meta charset=\"utf-8\"/>\n",
      "  <meta content=\"width=device-width, initial-scale=1\" name=\"viewport\"/>\n",
      "  <meta content=\"308558492587260\" property=\"fb:app_id\">\n",
      "   <meta content=\"https://klimi.mk\" property=\"og:url\">\n",
      "    <meta content=\"https://klimi.mk/public/storage/main/fb.png\" property=\"og:image\"/>\n",
      "    <meta content=\"КЛИМИ.мк - резиденцијални и комерцијални клима уреди\" property=\"og:title\"/>\n",
      "    <meta content=\"article\" property=\"og:type\"/>\n",
      "    <meta content=\"KLIMI.MK | De\n"
     ]
    }
   ],
   "execution_count": 38
  },
  {
   "metadata": {},
   "cell_type": "markdown",
   "source": [
    "\n",
    "Selectors\n",
    "- Selecting\n",
    "element\n",
    "by class(using a.) ex..sale\n",
    "\n",
    "\n",
    "- Selecting\n",
    "elements\n",
    "by\n",
    "id(using\n",
    "a  #) ex. #product\n",
    "- Selecting\n",
    "elements\n",
    "by\n",
    "tag(using\n",
    "tag\n",
    "name) ex.p\n",
    "\n",
    "Selecting\n",
    "the\n",
    "elements\n",
    "by\n",
    "the\n",
    "\n",
    "\n",
    "class manufacturer(.proizvoditel).\n"
   ],
   "id": "7717b435e898a6c4"
  },
  {
   "metadata": {
    "ExecuteTime": {
     "end_time": "2025-10-29T17:56:47.746319Z",
     "start_time": "2025-10-29T17:56:47.739856Z"
    }
   },
   "cell_type": "code",
   "source": "manufacturer_elements = soup.select(\".proizvoditel\")",
   "id": "d940c206bfadf087",
   "outputs": [],
   "execution_count": 39
  },
  {
   "metadata": {},
   "cell_type": "markdown",
   "source": [
    "We\n",
    "use\n",
    "the\n",
    "id\n",
    "to\n",
    "extract\n",
    "the\n",
    "exact\n",
    "manufacturer."
   ],
   "id": "e669300ef874e428"
  },
  {
   "metadata": {
    "ExecuteTime": {
     "end_time": "2025-10-29T17:56:47.753656Z",
     "start_time": "2025-10-29T17:56:47.752005Z"
    }
   },
   "cell_type": "code",
   "source": [
    "manufacturers = [m.get(\"id\") for m in manufacturer_elements]\n",
    "print(manufacturers)"
   ],
   "id": "8be84ed582768d89",
   "outputs": [
    {
     "name": "stdout",
     "output_type": "stream",
     "text": [
      "['gree', 'vivax', 'hisense', 'toshiba', 'tesla', 'carrier', 'haier', 'fujitsu', 'samsung', 'daikin', 'mitsubishi', 'aux', 'tosot', 'hitachi', 'hyundai', 'tcl', 'bosch', 'vaillant']\n"
     ]
    }
   ],
   "execution_count": 40
  },
  {
   "metadata": {},
   "cell_type": "markdown",
   "source": [
    "We\n",
    "select\n",
    "the\n",
    "slider\n",
    "element\n",
    "on\n",
    "the\n",
    "top\n",
    "of\n",
    "the\n",
    "page in order\n",
    "to\n",
    "access\n",
    "the\n",
    "elements\n",
    "that\n",
    "we\n",
    "need\n",
    "to\n",
    "extraxt\n",
    "information\n",
    "from ."
   ],
   "id": "5e0a2e1a6c60a674"
  },
  {
   "metadata": {
    "ExecuteTime": {
     "end_time": "2025-10-29T17:56:47.769729Z",
     "start_time": "2025-10-29T17:56:47.763870Z"
    }
   },
   "cell_type": "code",
   "source": [
    "slider_element = soup.select_one('#slider')\n",
    "print(str(slider_element)[:512])"
   ],
   "id": "e4b9e08cac9ad185",
   "outputs": [
    {
     "name": "stdout",
     "output_type": "stream",
     "text": [
      "<section id=\"slider\"><!--slider-->\n",
      "<div class=\"carousel slide div-slajder\" data-ride=\"carousel\" id=\"carousel-example-generic\">\n",
      "<!-- Indicators -->\n",
      "<ol class=\"carousel-indicators\">\n",
      "<li class=\"active\" data-slide-to=\"0\" data-target=\"#carousel-example-generic\"></li>\n",
      "<li class=\"\" data-slide-to=\"1\" data-target=\"#carousel-example-generic\"></li>\n",
      "<li class=\"\" data-slide-to=\"2\" data-target=\"#carousel-example-generic\"></li>\n",
      "<li class=\"\" data-slide-to=\"3\" data-target=\"#carousel-example-generic\"></li>\n",
      "<li class=\"\" data-\n"
     ]
    }
   ],
   "execution_count": 41
  },
  {
   "metadata": {},
   "cell_type": "markdown",
   "source": [
    "Next\n",
    "we\n",
    "select\n",
    "the\n",
    "image\n",
    "elements\n",
    "contained in the\n",
    "slider in order\n",
    "to\n",
    "extract\n",
    "the\n",
    "image\n",
    "urls."
   ],
   "id": "26ca111b3f5be62d"
  },
  {
   "metadata": {
    "ExecuteTime": {
     "end_time": "2025-10-29T17:56:47.778631Z",
     "start_time": "2025-10-29T17:56:47.775729Z"
    }
   },
   "cell_type": "code",
   "source": [
    "image_elements = slider_element.select('img.img.img-fluid.slika-klima-slajder')\n",
    "image_elements[:5]"
   ],
   "id": "67fcfd9c2ee72a0a",
   "outputs": [
    {
     "data": {
      "text/plain": [
       "[<img alt=\"\" class=\"img img-fluid slika-klima-slajder\" src=\"https://klimi.mk/public/storage/proizvodi/O2AnygmaFsCeFxo6M85Fd5WpkNSzDjJPMCTv3u9C.png\"/>,\n",
       " <img alt=\"\" class=\"img img-fluid slika-klima-slajder\" src=\"https://klimi.mk/public/storage/proizvodi/1AF1VBpEoWQJPptxaOHpC7nWp6yYnPwlIDoB6awL.png\"/>,\n",
       " <img alt=\"\" class=\"img img-fluid slika-klima-slajder\" src=\"https://klimi.mk/public/storage/proizvodi/hiv5ww2PyxFlN0cyQTKvVaiQX0gKL8WkGfCNTq09.png\"/>,\n",
       " <img alt=\"\" class=\"img img-fluid slika-klima-slajder\" src=\"https://klimi.mk/public/storage/proizvodi/VTsibO8WletY6YemkQ6hw8550ObFFV2ORKhEqPJb.png\"/>,\n",
       " <img alt=\"\" class=\"img img-fluid slika-klima-slajder\" src=\"https://klimi.mk/public/storage/proizvodi/PDrEGeZDdN3ujtFob1VXKit59Ovh0sbIs71xwz96.png\"/>]"
      ]
     },
     "execution_count": 42,
     "metadata": {},
     "output_type": "execute_result"
    }
   ],
   "execution_count": 42
  },
  {
   "metadata": {},
   "cell_type": "markdown",
   "source": [
    "Extracting\n",
    "image\n",
    "urls\n",
    "into\n",
    "a\n",
    "separate\n",
    "list."
   ],
   "id": "5eb7d3e9bf9c2bc5"
  },
  {
   "metadata": {
    "ExecuteTime": {
     "end_time": "2025-10-29T17:56:47.790568Z",
     "start_time": "2025-10-29T17:56:47.788572Z"
    }
   },
   "cell_type": "code",
   "source": [
    "image_urls = [img.get('src') for img in image_elements]\n",
    "image_urls[0]"
   ],
   "id": "938bb3fd7d232753",
   "outputs": [
    {
     "data": {
      "text/plain": [
       "'https://klimi.mk/public/storage/proizvodi/O2AnygmaFsCeFxo6M85Fd5WpkNSzDjJPMCTv3u9C.png'"
      ]
     },
     "execution_count": 43,
     "metadata": {},
     "output_type": "execute_result"
    }
   ],
   "execution_count": 43
  },
  {
   "metadata": {},
   "cell_type": "markdown",
   "source": [
    "\n",
    "We\n",
    "locate and inspect\n",
    "the\n",
    "container in the\n",
    "website\n",
    "where\n",
    "all\n",
    "the\n",
    "product\n",
    "data is gathered."
   ],
   "id": "46707b49774202ce"
  },
  {
   "metadata": {
    "ExecuteTime": {
     "end_time": "2025-10-29T17:56:47.807741Z",
     "start_time": "2025-10-29T17:56:47.800386Z"
    }
   },
   "cell_type": "code",
   "source": [
    "container = soup.select_one('.sodrzina-klimi-naslovna')\n",
    "print(str(container)[:512])"
   ],
   "id": "4094d64507dcdb75",
   "outputs": [
    {
     "name": "stdout",
     "output_type": "stream",
     "text": [
      "<div class=\"sodrzina-klimi-naslovna\">\n",
      "<!-- -->\n",
      "<div class=\"col-md-12 row klimi-red\" id=\"proizvodi-data\">\n",
      "<div class=\"col-md-4 col-sm-6 klima-box ramka-promo-cena\">\n",
      "<div class=\"header-box\">\n",
      "<img alt=\"ACP-12CH35AEFIs R32\" class=\"image img-fluid slika-klima-box\" src=\"https://klimi.mk/public/storage/proizvodi/1AF1VBpEoWQJPptxaOHpC7nWp6yYnPwlIDoB6awL.png\"/>\n",
      "</div>\n",
      "<div class=\"proizvoditel-model\">\n",
      "<img align=\"left\" alt=\"VIVAX\" class=\"logo-box-klima\" src=\"https://klimi.mk/public/storage/proizvoditeli/vivax-bw.png\"\n"
     ]
    }
   ],
   "execution_count": 44
  },
  {
   "metadata": {},
   "cell_type": "markdown",
   "source": [
    "\n",
    "Select\n",
    "all\n",
    "the\n",
    "product\n",
    "rows."
   ],
   "id": "9f8b9fb43f8e7426"
  },
  {
   "metadata": {
    "ExecuteTime": {
     "end_time": "2025-10-29T17:56:47.823811Z",
     "start_time": "2025-10-29T17:56:47.813823Z"
    }
   },
   "cell_type": "code",
   "source": [
    "rows = soup.select('.klimi-red')\n",
    "print(len(rows))\n",
    "print(str(rows)[:512])"
   ],
   "id": "707247ec33502cc9",
   "outputs": [
    {
     "name": "stdout",
     "output_type": "stream",
     "text": [
      "2\n",
      "[<div class=\"col-md-12 row klimi-red\" id=\"proizvodi-data\">\n",
      "<div class=\"col-md-4 col-sm-6 klima-box ramka-promo-cena\">\n",
      "<div class=\"header-box\">\n",
      "<img alt=\"ACP-12CH35AEFIs R32\" class=\"image img-fluid slika-klima-box\" src=\"https://klimi.mk/public/storage/proizvodi/1AF1VBpEoWQJPptxaOHpC7nWp6yYnPwlIDoB6awL.png\"/>\n",
      "</div>\n",
      "<div class=\"proizvoditel-model\">\n",
      "<img align=\"left\" alt=\"VIVAX\" class=\"logo-box-klima\" src=\"https://klimi.mk/public/storage/proizvoditeli/vivax-bw.png\"/>\n",
      "<span class=\"opis-model\">ACP-12CH35AEFIs R3\n"
     ]
    }
   ],
   "execution_count": 45
  },
  {
   "metadata": {},
   "cell_type": "markdown",
   "source": [
    "\n",
    "Extracting\n",
    "all\n",
    "the\n",
    "cells\n",
    "from the rows."
   ],
   "id": "f4a45d8294fd5a7c"
  },
  {
   "metadata": {
    "ExecuteTime": {
     "end_time": "2025-10-29T17:56:47.833313Z",
     "start_time": "2025-10-29T17:56:47.830172Z"
    }
   },
   "cell_type": "code",
   "source": [
    "cells = []\n",
    "for row in rows:\n",
    "    cells += row.select(\".klima-box\")\n",
    "\n",
    "len(cells)\n",
    "print(cells[0])"
   ],
   "id": "85e06216da2d0251",
   "outputs": [
    {
     "name": "stdout",
     "output_type": "stream",
     "text": [
      "<div class=\"col-md-4 col-sm-6 klima-box ramka-promo-cena\">\n",
      "<div class=\"header-box\">\n",
      "<img alt=\"ACP-12CH35AEFIs R32\" class=\"image img-fluid slika-klima-box\" src=\"https://klimi.mk/public/storage/proizvodi/1AF1VBpEoWQJPptxaOHpC7nWp6yYnPwlIDoB6awL.png\"/>\n",
      "</div>\n",
      "<div class=\"proizvoditel-model\">\n",
      "<img align=\"left\" alt=\"VIVAX\" class=\"logo-box-klima\" src=\"https://klimi.mk/public/storage/proizvoditeli/vivax-bw.png\"/>\n",
      "<span class=\"opis-model\">ACP-12CH35AEFIs R32</span>\n",
      "</div>\n",
      "<div class=\"osnovni-podatoci-div\">\n",
      "<span class=\"osnovni-info\"><b>ТИП</b>: ИНВЕРТЕР СПЛИТ СИСТЕМ</span>\n",
      "<span class=\"osnovni-info\"><b>ЕНЕРГЕТСКА КЛАСА</b>: A++ </span>\n",
      "<span class=\"osnovni-info\"><b>МОЌНОСТ</b>: 3517/3810 W</span>\n",
      "<span class=\"osnovni-info\"><b>ГРЕЕЊЕ / ЛАДЕЊЕ</b>: ОД -10℃ ДО 50℃</span>\n",
      "<span class=\"osnovni-info\"><b>ПРЕПОРАЧАНА ПОВРШИНА</b>: <span style=\"color: #090037;\">ДО 30 м<sup>2</sup></span></span>\n",
      "<span class=\"osnovni-info info-funkcii\" title=\"Внесете свежина во вашите домашни и деловни простории и во најтешките летни денови!\"><b>ФУНКЦИИ</b>: Внесете свежина во вашите домашни и деловни простории и во најтешките летни денови!</span>\n",
      "<span class=\"osnovni-info\"><b>ГАРАНЦИЈА</b>:<span style=\"color: #090037;\"> 5 ГОДИНИ</span></span>\n",
      "</div>\n",
      "<img alt=\"\" class=\"img img-fluid promo-cena-new\" src=\"https://klimi.mk/public/storage/main/promo-cena.png\"/>\n",
      "<div class=\"cena-div text-left\" style=\"display: -webkit-box;\">\n",
      "<span class=\"cena-box-naslovna\" style=\"color: #ffffff !important;\">17.990<sup>00</sup></span>\n",
      "<span class=\"stara-cena-linija\" style=\"color: #ffffff; font-size: 1.4em; position: relative; bottom: -24px;\">20.990<sup>00</sup></span>\n",
      "</div>\n",
      "<div class=\"co-md-12 kopcinja\">\n",
      "<a class=\"btn-poveke text-center\" href=\"https://klimi.mk/product/599\">ПОВЕЌЕ</a>\n",
      "<span class=\"btn-naracaj text-center naracaj\" data-idured=\"599\" style=\"color: #0489F3; background-color: #ffffff;\" ured-id=\"599\">НАРАЧАЈ</span>\n",
      "</div>\n",
      "</div>\n"
     ]
    }
   ],
   "execution_count": 46
  },
  {
   "metadata": {},
   "cell_type": "markdown",
   "source": [
    "\n",
    "Select\n",
    "the\n",
    "brand\n",
    "name and the\n",
    "description\n",
    "of\n",
    "every\n",
    "AC\n",
    "unit.\n"
   ],
   "id": "4763ad32ed25c60c"
  },
  {
   "metadata": {
    "ExecuteTime": {
     "end_time": "2025-10-29T17:56:47.843134Z",
     "start_time": "2025-10-29T17:56:47.841388Z"
    }
   },
   "cell_type": "code",
   "source": [
    "def get_manufacturer_and_model(cell):\n",
    "    manufacturer_details = cell.select_one(\".proizvoditel-model\")\n",
    "    manufacturer = manufacturer_details.select_one(\"img\").get(\"alt\")\n",
    "    model = manufacturer_details.select_one(\".opis-model\").text\n",
    "    return {\n",
    "        \"manufacturer\": manufacturer,\n",
    "        \"model\": model,\n",
    "    }"
   ],
   "id": "38aba1f136b2b013",
   "outputs": [],
   "execution_count": 47
  },
  {
   "metadata": {
    "ExecuteTime": {
     "end_time": "2025-10-29T17:56:47.854324Z",
     "start_time": "2025-10-29T17:56:47.852268Z"
    }
   },
   "cell_type": "code",
   "source": "get_manufacturer_and_model(cells[0])",
   "id": "8a4800d9624b5231",
   "outputs": [
    {
     "data": {
      "text/plain": [
       "{'manufacturer': 'VIVAX', 'model': 'ACP-12CH35AEFIs R32'}"
      ]
     },
     "execution_count": 48,
     "metadata": {},
     "output_type": "execute_result"
    }
   ],
   "execution_count": 48
  },
  {
   "metadata": {},
   "cell_type": "markdown",
   "source": [
    "\n",
    "Extracting\n",
    "properties\n",
    "from all the differentcells.\n",
    "1. Define\n",
    "all\n",
    "the\n",
    "property\n",
    "names\n",
    "2. Function\n",
    "to\n",
    "extraxt\n",
    "properties and sort\n",
    "them in a\n",
    "dictionary"
   ],
   "id": "9ba262c5b3931a87"
  },
  {
   "metadata": {
    "ExecuteTime": {
     "end_time": "2025-10-29T17:56:47.863527Z",
     "start_time": "2025-10-29T17:56:47.862169Z"
    }
   },
   "cell_type": "code",
   "source": [
    "names = [\n",
    "    \"type\",\n",
    "    \"energy_class\",\n",
    "    \"power\",\n",
    "    \"temperature\",\n",
    "    \"area\",\n",
    "    \"functions\",\n",
    "    \"warranty\"\n",
    "]"
   ],
   "id": "a809d7422234d1f6",
   "outputs": [],
   "execution_count": 49
  },
  {
   "metadata": {
    "ExecuteTime": {
     "end_time": "2025-10-29T17:56:47.873621Z",
     "start_time": "2025-10-29T17:56:47.871920Z"
    }
   },
   "cell_type": "code",
   "source": [
    "def get_properties(cell):\n",
    "    properties = cell.select(\".osnovni-info\")\n",
    "\n",
    "    values = {}\n",
    "    for index in range(len(names)):\n",
    "        values[names[index]] = properties[index].text.split(\": \")[1].strip()\n",
    "\n",
    "    return values"
   ],
   "id": "282c29090b8196f",
   "outputs": [],
   "execution_count": 50
  },
  {
   "metadata": {},
   "cell_type": "markdown",
   "source": [
    "\n",
    "Testing\n",
    "the\n",
    "get_properties\n",
    "function with the first cell:"
   ],
   "id": "4cd1c3c004b78f5c"
  },
  {
   "metadata": {
    "ExecuteTime": {
     "end_time": "2025-10-29T17:56:47.880049Z",
     "start_time": "2025-10-29T17:56:47.877975Z"
    }
   },
   "cell_type": "code",
   "source": "get_properties(cells[0])",
   "id": "b47c5ebb354b7696",
   "outputs": [
    {
     "data": {
      "text/plain": [
       "{'type': 'ИНВЕРТЕР СПЛИТ СИСТЕМ',\n",
       " 'energy_class': 'A++',\n",
       " 'power': '3517/3810 W',\n",
       " 'temperature': 'ОД -10℃ ДО 50℃',\n",
       " 'area': 'ДО 30 м2',\n",
       " 'functions': 'Внесете свежина во вашите домашни и деловни простории и во најтешките летни денови!',\n",
       " 'warranty': '5 ГОДИНИ'}"
      ]
     },
     "execution_count": 51,
     "metadata": {},
     "output_type": "execute_result"
    }
   ],
   "execution_count": 51
  },
  {
   "metadata": {},
   "cell_type": "markdown",
   "source": [
    "\n",
    "Extracting the prices from the cells.\n",
    "1. Extraxt\n",
    "the\n",
    "current\n",
    "price\n",
    "2. Extract\n",
    "the\n",
    "previous\n",
    "price if the\n",
    "unit\n",
    "has\n",
    "a\n",
    "discount\n"
   ],
   "id": "d02e9c70dcf9ce71"
  },
  {
   "metadata": {
    "ExecuteTime": {
     "end_time": "2025-10-29T17:56:47.892482Z",
     "start_time": "2025-10-29T17:56:47.890479Z"
    }
   },
   "cell_type": "code",
   "source": [
    "def get_prices(cell):\n",
    "    current = cell.select_one(\".cena-box-naslovna\").contents[0]\n",
    "    previous_element = cell.select_one(\".stara-cena-linija\")\n",
    "    if previous_element is not None:\n",
    "        return {\"current\": current, \"previous\": previous_element.contents[0]}\n",
    "    else:\n",
    "        return {\"current\": current, \"previous\": None}"
   ],
   "id": "ed7ae3acaa1ec074",
   "outputs": [],
   "execution_count": 52
  },
  {
   "metadata": {},
   "cell_type": "markdown",
   "source": [
    "\n",
    "Testing\n",
    "get_prices\n",
    "function\n",
    "with the first cell:"
   ],
   "id": "5d9efde95cf6cb8"
  },
  {
   "metadata": {
    "ExecuteTime": {
     "end_time": "2025-10-29T17:56:47.902991Z",
     "start_time": "2025-10-29T17:56:47.900846Z"
    }
   },
   "cell_type": "code",
   "source": "get_prices(cells[0])",
   "id": "cc9791fef468b06d",
   "outputs": [
    {
     "data": {
      "text/plain": [
       "{'current': '17.990', 'previous': '20.990'}"
      ]
     },
     "execution_count": 53,
     "metadata": {},
     "output_type": "execute_result"
    }
   ],
   "execution_count": 53
  },
  {
   "metadata": {
    "ExecuteTime": {
     "end_time": "2025-10-29T17:56:47.912796Z",
     "start_time": "2025-10-29T17:56:47.911039Z"
    }
   },
   "cell_type": "code",
   "source": [
    "def extraxt_all_data(cell):\n",
    "    dictionary = {}\n",
    "\n",
    "    manufacturer_data = get_manufacturer_and_model(cell)\n",
    "    dictionary.update(manufacturer_data)\n",
    "\n",
    "    property_data = get_properties(cell)\n",
    "    dictionary.update(property_data)\n",
    "\n",
    "    price_data = get_prices(cell)\n",
    "    dictionary.update(price_data)\n",
    "\n",
    "    return dictionary"
   ],
   "id": "1785781db18b4b0d",
   "outputs": [],
   "execution_count": 54
  },
  {
   "metadata": {},
   "cell_type": "markdown",
   "source": [
    "\n",
    "\n",
    "Testing\n",
    "the\n",
    "function\n",
    "extract_all_data\n",
    "with the first cell:"
   ],
   "id": "c87cfc93ee380ed0"
  },
  {
   "metadata": {
    "ExecuteTime": {
     "end_time": "2025-10-29T17:56:47.924770Z",
     "start_time": "2025-10-29T17:56:47.922296Z"
    }
   },
   "cell_type": "code",
   "source": "extraxt_all_data(cells[0])",
   "id": "2e122e146ed94beb",
   "outputs": [
    {
     "data": {
      "text/plain": [
       "{'manufacturer': 'VIVAX',\n",
       " 'model': 'ACP-12CH35AEFIs R32',\n",
       " 'type': 'ИНВЕРТЕР СПЛИТ СИСТЕМ',\n",
       " 'energy_class': 'A++',\n",
       " 'power': '3517/3810 W',\n",
       " 'temperature': 'ОД -10℃ ДО 50℃',\n",
       " 'area': 'ДО 30 м2',\n",
       " 'functions': 'Внесете свежина во вашите домашни и деловни простории и во најтешките летни денови!',\n",
       " 'warranty': '5 ГОДИНИ',\n",
       " 'current': '17.990',\n",
       " 'previous': '20.990'}"
      ]
     },
     "execution_count": 55,
     "metadata": {},
     "output_type": "execute_result"
    }
   ],
   "execution_count": 55
  },
  {
   "metadata": {},
   "cell_type": "markdown",
   "source": [
    "Collecting\n",
    "all\n",
    "the\n",
    "data\n",
    "from the cells.\n",
    "1. Make\n",
    "a\n",
    "for loop that cycles through the cells\n",
    "2. Call\n",
    "the\n",
    "function\n",
    "extract_all_data\n",
    "on\n",
    "the\n",
    "cells and add\n",
    "that\n",
    "to\n",
    "the\n",
    "data list"
   ],
   "id": "ccaf3a6993320e3b"
  },
  {
   "metadata": {
    "ExecuteTime": {
     "end_time": "2025-10-29T17:56:47.938267Z",
     "start_time": "2025-10-29T17:56:47.932784Z"
    }
   },
   "cell_type": "code",
   "source": [
    "data = []\n",
    "for cell in cells:\n",
    "    data.append(extraxt_all_data(cell))\n",
    "print(data)"
   ],
   "id": "edc7a52aaaa664b",
   "outputs": [
    {
     "name": "stdout",
     "output_type": "stream",
     "text": [
      "[{'manufacturer': 'VIVAX', 'model': 'ACP-12CH35AEFIs R32', 'type': 'ИНВЕРТЕР СПЛИТ СИСТЕМ', 'energy_class': 'A++', 'power': '3517/3810 W', 'temperature': 'ОД -10℃ ДО 50℃', 'area': 'ДО 30 м2', 'functions': 'Внесете свежина во вашите домашни и деловни простории и во најтешките летни денови!', 'warranty': '5 ГОДИНИ', 'current': '17.990', 'previous': '20.990'}, {'manufacturer': 'TESLA', 'model': 'CLASSIC TA36FFLL-1232IA', 'type': 'ИНВЕРТЕР СПЛИТ СИСТЕМ', 'energy_class': 'A++', 'power': '3400/3500 W', 'temperature': 'ОД -15℃ ДО 49℃', 'area': 'ДО 35 м2', 'functions': '/', 'warranty': '3 ГОДИНИ', 'current': '18.990', 'previous': None}, {'manufacturer': 'VIVAX', 'model': 'ACP-12CH35AEXIs R32', 'type': 'ИНВЕРТЕР СПЛИТ СИСТЕМ', 'energy_class': 'A++', 'power': '3520/3810 W', 'temperature': 'ОД -15℃ ДО 50℃', 'area': 'ДО 30 м2', 'functions': '/', 'warranty': '5 ГОДИНИ', 'current': '19.990', 'previous': '24.990'}, {'manufacturer': 'VIVAX', 'model': 'ACP-09CH25AEQIS R32', 'type': 'ИНВЕРТЕР СПЛИТ СИСТЕМ', 'energy_class': 'A++', 'power': '2638/2930 W', 'temperature': 'ОД -15℃ ДО 50℃', 'area': 'ДО 25 м2', 'functions': 'Висока ефикасност, прикажување на самодијагноза, индикатор за истекување на гасот за разладување, 1W standby, турбо, заштита на вентил на надворешна единица, интелегентно отопување, 12 Fan Speed, безшумна опција, двосмерен одвод на кондензат, дигитален екран.', 'warranty': '5 ГОДИНИ', 'current': '19.990', 'previous': '22.990'}, {'manufacturer': 'VIVAX', 'model': 'ACP-09PT25AEG', 'type': 'МОБИЛНИ КЛИМА УРЕДИ', 'energy_class': 'A', 'power': '2640 W', 'temperature': 'ОД 17℃ ДО 35℃', 'area': 'ДО 25 м2', 'functions': 'Тајмер, 3 стапки на проток на воздух, Рачно ракување, Повеќенасочни тркала.', 'warranty': '3 ГОДИНИ', 'current': '19.990', 'previous': None}, {'manufacturer': 'TOSOT', 'model': 'MUSE PREMIUM TWH12AFBXB-K6DNA5A', 'type': 'ИНВЕРТЕР СПЛИТ СИСТЕМ', 'energy_class': 'A++', 'power': '3200/3400 W', 'temperature': 'ОД -15℃ ДО 43℃', 'area': 'ДО 30 м2', 'functions': 'Произведено од GREE. Самодијагноза, интелегентно отопување, аuto restart, нормален sleep mode,тајмер, turbo', 'warranty': '3 ГОДИНИ', 'current': '19.990', 'previous': '31.990'}, {'manufacturer': 'VIVAX', 'model': 'ACP-09CH25AEMIS R32', 'type': 'ИНВЕРТЕР СПЛИТ СИСТЕМ', 'energy_class': 'A++', 'power': '2638/2930 W', 'temperature': 'ОД -15℃ ДО 50℃', 'area': 'ДО 25 м2', 'functions': 'Висока ефикасност, самодијагноза, 1W standby, заштита на вентил надворешна единица, 12 Fan Speed, self cleaning, индикатор за истекување на гасот за разладување, безшумна операција, двосмерен одвод на кондензат, дигитален екран, sleep mode, тајмер, интелегентно отопување, memory функција, турбо, припрема за Wi-Fi  ( WiFi ready )', 'warranty': '5 ГОДИНИ', 'current': '19.990', 'previous': '24.990'}, {'manufacturer': 'VIVAX', 'model': 'ACP-12CH35AEQIS R32', 'type': 'ИНВЕРТЕР СПЛИТ СИСТЕМ', 'energy_class': 'A++', 'power': '3517/3810 W', 'temperature': 'ОД -15℃ ДО 50℃', 'area': 'ДО 35 м2', 'functions': 'Висока ефикасност, прикажување на самодијагноза, индикатор за истекување на гасот за разладување, 1W standby, турбо, заштита на вентил на надворешна единица, интелегентно отопување, 12 Fan Speed, безшумна опција, двосмерен одвод на кондензат, дигитален екран.', 'warranty': '5 ГОДИНИ', 'current': '20.990', 'previous': '25.990'}, {'manufacturer': 'TESLA', 'model': 'CLASSIC TT34EX21-1232IA', 'type': 'ИНВЕРТЕР СПЛИТ СИСТЕМ', 'energy_class': 'A++', 'power': '3400/3420 W', 'temperature': 'ОД -20℃ ДО 53℃', 'area': 'ДО 35 м2', 'functions': '/', 'warranty': '3 ГОДИНИ', 'current': '20.990', 'previous': '25.990'}]\n"
     ]
    }
   ],
   "execution_count": 56
  },
  {
   "metadata": {},
   "cell_type": "markdown",
   "source": [
    "\n",
    "Create\n",
    "a\n",
    "pandas\n",
    "dataframe\n",
    "from the collected data."
   ],
   "id": "1945326287454729"
  },
  {
   "metadata": {
    "ExecuteTime": {
     "end_time": "2025-10-29T17:56:47.951571Z",
     "start_time": "2025-10-29T17:56:47.947Z"
    }
   },
   "cell_type": "code",
   "source": [
    "df = pd.DataFrame(data)\n",
    "df"
   ],
   "id": "70bb59616301c19f",
   "outputs": [
    {
     "data": {
      "text/plain": [
       "  manufacturer                            model                   type  \\\n",
       "0        VIVAX              ACP-12CH35AEFIs R32  ИНВЕРТЕР СПЛИТ СИСТЕМ   \n",
       "1        TESLA          CLASSIC TA36FFLL-1232IA  ИНВЕРТЕР СПЛИТ СИСТЕМ   \n",
       "2        VIVAX              ACP-12CH35AEXIs R32  ИНВЕРТЕР СПЛИТ СИСТЕМ   \n",
       "3        VIVAX              ACP-09CH25AEQIS R32  ИНВЕРТЕР СПЛИТ СИСТЕМ   \n",
       "4        VIVAX                    ACP-09PT25AEG    МОБИЛНИ КЛИМА УРЕДИ   \n",
       "5        TOSOT  MUSE PREMIUM TWH12AFBXB-K6DNA5A  ИНВЕРТЕР СПЛИТ СИСТЕМ   \n",
       "6        VIVAX              ACP-09CH25AEMIS R32  ИНВЕРТЕР СПЛИТ СИСТЕМ   \n",
       "7        VIVAX              ACP-12CH35AEQIS R32  ИНВЕРТЕР СПЛИТ СИСТЕМ   \n",
       "8        TESLA          CLASSIC TT34EX21-1232IA  ИНВЕРТЕР СПЛИТ СИСТЕМ   \n",
       "\n",
       "  energy_class        power     temperature      area  \\\n",
       "0          A++  3517/3810 W  ОД -10℃ ДО 50℃  ДО 30 м2   \n",
       "1          A++  3400/3500 W  ОД -15℃ ДО 49℃  ДО 35 м2   \n",
       "2          A++  3520/3810 W  ОД -15℃ ДО 50℃  ДО 30 м2   \n",
       "3          A++  2638/2930 W  ОД -15℃ ДО 50℃  ДО 25 м2   \n",
       "4            A       2640 W   ОД 17℃ ДО 35℃  ДО 25 м2   \n",
       "5          A++  3200/3400 W  ОД -15℃ ДО 43℃  ДО 30 м2   \n",
       "6          A++  2638/2930 W  ОД -15℃ ДО 50℃  ДО 25 м2   \n",
       "7          A++  3517/3810 W  ОД -15℃ ДО 50℃  ДО 35 м2   \n",
       "8          A++  3400/3420 W  ОД -20℃ ДО 53℃  ДО 35 м2   \n",
       "\n",
       "                                           functions  warranty current  \\\n",
       "0  Внесете свежина во вашите домашни и деловни пр...  5 ГОДИНИ  17.990   \n",
       "1                                                  /  3 ГОДИНИ  18.990   \n",
       "2                                                  /  5 ГОДИНИ  19.990   \n",
       "3  Висока ефикасност, прикажување на самодијагноз...  5 ГОДИНИ  19.990   \n",
       "4  Тајмер, 3 стапки на проток на воздух, Рачно ра...  3 ГОДИНИ  19.990   \n",
       "5  Произведено од GREE. Самодијагноза, интелегент...  3 ГОДИНИ  19.990   \n",
       "6  Висока ефикасност, самодијагноза, 1W standby, ...  5 ГОДИНИ  19.990   \n",
       "7  Висока ефикасност, прикажување на самодијагноз...  5 ГОДИНИ  20.990   \n",
       "8                                                  /  3 ГОДИНИ  20.990   \n",
       "\n",
       "  previous  \n",
       "0   20.990  \n",
       "1     None  \n",
       "2   24.990  \n",
       "3   22.990  \n",
       "4     None  \n",
       "5   31.990  \n",
       "6   24.990  \n",
       "7   25.990  \n",
       "8   25.990  "
      ],
      "text/html": [
       "<div>\n",
       "<style scoped>\n",
       "    .dataframe tbody tr th:only-of-type {\n",
       "        vertical-align: middle;\n",
       "    }\n",
       "\n",
       "    .dataframe tbody tr th {\n",
       "        vertical-align: top;\n",
       "    }\n",
       "\n",
       "    .dataframe thead th {\n",
       "        text-align: right;\n",
       "    }\n",
       "</style>\n",
       "<table border=\"1\" class=\"dataframe\">\n",
       "  <thead>\n",
       "    <tr style=\"text-align: right;\">\n",
       "      <th></th>\n",
       "      <th>manufacturer</th>\n",
       "      <th>model</th>\n",
       "      <th>type</th>\n",
       "      <th>energy_class</th>\n",
       "      <th>power</th>\n",
       "      <th>temperature</th>\n",
       "      <th>area</th>\n",
       "      <th>functions</th>\n",
       "      <th>warranty</th>\n",
       "      <th>current</th>\n",
       "      <th>previous</th>\n",
       "    </tr>\n",
       "  </thead>\n",
       "  <tbody>\n",
       "    <tr>\n",
       "      <th>0</th>\n",
       "      <td>VIVAX</td>\n",
       "      <td>ACP-12CH35AEFIs R32</td>\n",
       "      <td>ИНВЕРТЕР СПЛИТ СИСТЕМ</td>\n",
       "      <td>A++</td>\n",
       "      <td>3517/3810 W</td>\n",
       "      <td>ОД -10℃ ДО 50℃</td>\n",
       "      <td>ДО 30 м2</td>\n",
       "      <td>Внесете свежина во вашите домашни и деловни пр...</td>\n",
       "      <td>5 ГОДИНИ</td>\n",
       "      <td>17.990</td>\n",
       "      <td>20.990</td>\n",
       "    </tr>\n",
       "    <tr>\n",
       "      <th>1</th>\n",
       "      <td>TESLA</td>\n",
       "      <td>CLASSIC TA36FFLL-1232IA</td>\n",
       "      <td>ИНВЕРТЕР СПЛИТ СИСТЕМ</td>\n",
       "      <td>A++</td>\n",
       "      <td>3400/3500 W</td>\n",
       "      <td>ОД -15℃ ДО 49℃</td>\n",
       "      <td>ДО 35 м2</td>\n",
       "      <td>/</td>\n",
       "      <td>3 ГОДИНИ</td>\n",
       "      <td>18.990</td>\n",
       "      <td>None</td>\n",
       "    </tr>\n",
       "    <tr>\n",
       "      <th>2</th>\n",
       "      <td>VIVAX</td>\n",
       "      <td>ACP-12CH35AEXIs R32</td>\n",
       "      <td>ИНВЕРТЕР СПЛИТ СИСТЕМ</td>\n",
       "      <td>A++</td>\n",
       "      <td>3520/3810 W</td>\n",
       "      <td>ОД -15℃ ДО 50℃</td>\n",
       "      <td>ДО 30 м2</td>\n",
       "      <td>/</td>\n",
       "      <td>5 ГОДИНИ</td>\n",
       "      <td>19.990</td>\n",
       "      <td>24.990</td>\n",
       "    </tr>\n",
       "    <tr>\n",
       "      <th>3</th>\n",
       "      <td>VIVAX</td>\n",
       "      <td>ACP-09CH25AEQIS R32</td>\n",
       "      <td>ИНВЕРТЕР СПЛИТ СИСТЕМ</td>\n",
       "      <td>A++</td>\n",
       "      <td>2638/2930 W</td>\n",
       "      <td>ОД -15℃ ДО 50℃</td>\n",
       "      <td>ДО 25 м2</td>\n",
       "      <td>Висока ефикасност, прикажување на самодијагноз...</td>\n",
       "      <td>5 ГОДИНИ</td>\n",
       "      <td>19.990</td>\n",
       "      <td>22.990</td>\n",
       "    </tr>\n",
       "    <tr>\n",
       "      <th>4</th>\n",
       "      <td>VIVAX</td>\n",
       "      <td>ACP-09PT25AEG</td>\n",
       "      <td>МОБИЛНИ КЛИМА УРЕДИ</td>\n",
       "      <td>A</td>\n",
       "      <td>2640 W</td>\n",
       "      <td>ОД 17℃ ДО 35℃</td>\n",
       "      <td>ДО 25 м2</td>\n",
       "      <td>Тајмер, 3 стапки на проток на воздух, Рачно ра...</td>\n",
       "      <td>3 ГОДИНИ</td>\n",
       "      <td>19.990</td>\n",
       "      <td>None</td>\n",
       "    </tr>\n",
       "    <tr>\n",
       "      <th>5</th>\n",
       "      <td>TOSOT</td>\n",
       "      <td>MUSE PREMIUM TWH12AFBXB-K6DNA5A</td>\n",
       "      <td>ИНВЕРТЕР СПЛИТ СИСТЕМ</td>\n",
       "      <td>A++</td>\n",
       "      <td>3200/3400 W</td>\n",
       "      <td>ОД -15℃ ДО 43℃</td>\n",
       "      <td>ДО 30 м2</td>\n",
       "      <td>Произведено од GREE. Самодијагноза, интелегент...</td>\n",
       "      <td>3 ГОДИНИ</td>\n",
       "      <td>19.990</td>\n",
       "      <td>31.990</td>\n",
       "    </tr>\n",
       "    <tr>\n",
       "      <th>6</th>\n",
       "      <td>VIVAX</td>\n",
       "      <td>ACP-09CH25AEMIS R32</td>\n",
       "      <td>ИНВЕРТЕР СПЛИТ СИСТЕМ</td>\n",
       "      <td>A++</td>\n",
       "      <td>2638/2930 W</td>\n",
       "      <td>ОД -15℃ ДО 50℃</td>\n",
       "      <td>ДО 25 м2</td>\n",
       "      <td>Висока ефикасност, самодијагноза, 1W standby, ...</td>\n",
       "      <td>5 ГОДИНИ</td>\n",
       "      <td>19.990</td>\n",
       "      <td>24.990</td>\n",
       "    </tr>\n",
       "    <tr>\n",
       "      <th>7</th>\n",
       "      <td>VIVAX</td>\n",
       "      <td>ACP-12CH35AEQIS R32</td>\n",
       "      <td>ИНВЕРТЕР СПЛИТ СИСТЕМ</td>\n",
       "      <td>A++</td>\n",
       "      <td>3517/3810 W</td>\n",
       "      <td>ОД -15℃ ДО 50℃</td>\n",
       "      <td>ДО 35 м2</td>\n",
       "      <td>Висока ефикасност, прикажување на самодијагноз...</td>\n",
       "      <td>5 ГОДИНИ</td>\n",
       "      <td>20.990</td>\n",
       "      <td>25.990</td>\n",
       "    </tr>\n",
       "    <tr>\n",
       "      <th>8</th>\n",
       "      <td>TESLA</td>\n",
       "      <td>CLASSIC TT34EX21-1232IA</td>\n",
       "      <td>ИНВЕРТЕР СПЛИТ СИСТЕМ</td>\n",
       "      <td>A++</td>\n",
       "      <td>3400/3420 W</td>\n",
       "      <td>ОД -20℃ ДО 53℃</td>\n",
       "      <td>ДО 35 м2</td>\n",
       "      <td>/</td>\n",
       "      <td>3 ГОДИНИ</td>\n",
       "      <td>20.990</td>\n",
       "      <td>25.990</td>\n",
       "    </tr>\n",
       "  </tbody>\n",
       "</table>\n",
       "</div>"
      ]
     },
     "execution_count": 57,
     "metadata": {},
     "output_type": "execute_result"
    }
   ],
   "execution_count": 57
  },
  {
   "metadata": {},
   "cell_type": "markdown",
   "source": [
    "\n",
    "## Selenium\n",
    "Importing\n",
    "libraries"
   ],
   "id": "5e33606450433151"
  },
  {
   "metadata": {
    "ExecuteTime": {
     "end_time": "2025-10-29T17:56:47.985715Z",
     "start_time": "2025-10-29T17:56:47.984141Z"
    }
   },
   "cell_type": "code",
   "source": [
    "import time\n",
    "\n",
    "from selenium.webdriver import Chrome\n",
    "from selenium.webdriver.common.by import By"
   ],
   "id": "646a9e98b8a9671b",
   "outputs": [],
   "execution_count": 58
  },
  {
   "metadata": {},
   "cell_type": "markdown",
   "source": [
    "\n",
    "Create\n",
    "a\n",
    "driver and link\n",
    "it\n",
    "to\n",
    "the\n",
    "website."
   ],
   "id": "87ce3b03ad622d6d"
  },
  {
   "metadata": {
    "ExecuteTime": {
     "end_time": "2025-10-29T17:56:48.729671Z",
     "start_time": "2025-10-29T17:56:48.020196Z"
    }
   },
   "cell_type": "code",
   "source": "driver = Chrome()",
   "id": "e96bc5a86cf07aed",
   "outputs": [],
   "execution_count": 59
  },
  {
   "metadata": {
    "ExecuteTime": {
     "end_time": "2025-10-29T17:56:56.145251Z",
     "start_time": "2025-10-29T17:56:48.734756Z"
    }
   },
   "cell_type": "code",
   "source": "driver.get(\"https://klimi.mk/\")",
   "id": "e284a400515b6752",
   "outputs": [],
   "execution_count": 60
  },
  {
   "metadata": {},
   "cell_type": "markdown",
   "source": [
    "\n",
    "Automating\n",
    "page\n",
    "scrolling in order\n",
    "to\n",
    "collect\n",
    "data\n",
    "displayed\n",
    "on\n",
    "the\n",
    "page."
   ],
   "id": "acd1263f94d0d091"
  },
  {
   "metadata": {
    "ExecuteTime": {
     "end_time": "2025-10-29T17:56:59.208729Z",
     "start_time": "2025-10-29T17:56:56.192187Z"
    }
   },
   "cell_type": "code",
   "source": [
    "last_height = driver.execute_script(\"return document.body.scrollHeight;\")\n",
    "\n",
    "while True:\n",
    "    driver.execute_script(\"window.scrollTo(0, document.body.scrollHeight);\")\n",
    "    time.sleep(3)\n",
    "    new_height = driver.execute_script(\"return document.body.scrollHeight;\")\n",
    "    if new_height == last_height:\n",
    "        break\n",
    "    last_height = new_height"
   ],
   "id": "58824a630e3f2837",
   "outputs": [],
   "execution_count": 61
  },
  {
   "metadata": {},
   "cell_type": "markdown",
   "source": [
    "Get\n",
    "the\n",
    "grid\n",
    "element and rows\n",
    "that\n",
    "contain\n",
    "all\n",
    "the\n",
    "data\n",
    "for the AC units.\n"
   ],
   "id": "4f99be8cbcf76118"
  },
  {
   "metadata": {
    "ExecuteTime": {
     "end_time": "2025-10-29T17:56:59.284971Z",
     "start_time": "2025-10-29T17:56:59.267857Z"
    }
   },
   "cell_type": "code",
   "source": [
    "grid_element = driver.find_element(By.CLASS_NAME, \"sodrzina-klimi-naslovna\")\n",
    "row_elements = grid_element.find_elements(By.CLASS_NAME, \"klimi-red\")\n",
    "len(row_elements)"
   ],
   "id": "ec0647f5f31f7192",
   "outputs": [
    {
     "data": {
      "text/plain": [
       "2"
      ]
     },
     "execution_count": 62,
     "metadata": {},
     "output_type": "execute_result"
    }
   ],
   "execution_count": 62
  },
  {
   "metadata": {},
   "cell_type": "markdown",
   "source": [
    "\n",
    "Get\n",
    "all\n",
    "the\n",
    "elements\n",
    "from the rows as cells."
   ],
   "id": "647340f31ddde733"
  },
  {
   "metadata": {
    "ExecuteTime": {
     "end_time": "2025-10-29T17:56:59.304174Z",
     "start_time": "2025-10-29T17:56:59.294280Z"
    }
   },
   "cell_type": "code",
   "source": [
    "cells = []\n",
    "\n",
    "for row in row_elements:\n",
    "    curr_cells = row.find_elements(By.CLASS_NAME, \"klima-box\")\n",
    "    cells.extend(curr_cells)\n",
    "len(cells)"
   ],
   "id": "963475608b62296b",
   "outputs": [
    {
     "data": {
      "text/plain": [
       "9"
      ]
     },
     "execution_count": 63,
     "metadata": {},
     "output_type": "execute_result"
    }
   ],
   "execution_count": 63
  },
  {
   "metadata": {},
   "cell_type": "markdown",
   "source": [
    "Find\n",
    "the\n",
    "current\n",
    "price\n",
    "of\n",
    "the\n",
    "AC\n",
    "unit."
   ],
   "id": "63df74ec52df0c6f"
  },
  {
   "metadata": {
    "ExecuteTime": {
     "end_time": "2025-10-29T17:56:59.321221Z",
     "start_time": "2025-10-29T17:56:59.311851Z"
    }
   },
   "cell_type": "code",
   "source": [
    "curr_price_element = cells[0].find_element(By.CLASS_NAME, \"cena-box-naslovna\")\n",
    "curr_price = driver.execute_script(\"return arguments[0].firstChild.nodeValue\", curr_price_element)\n",
    "curr_price"
   ],
   "id": "55795060df530d67",
   "outputs": [
    {
     "data": {
      "text/plain": [
       "'17.990'"
      ]
     },
     "execution_count": 64,
     "metadata": {},
     "output_type": "execute_result"
    }
   ],
   "execution_count": 64
  },
  {
   "metadata": {},
   "cell_type": "markdown",
   "source": [
    "Find\n",
    "the\n",
    "previous\n",
    "price\n",
    "of\n",
    "the\n",
    "AC\n",
    "unit."
   ],
   "id": "8a520084aa38cbad"
  },
  {
   "metadata": {
    "ExecuteTime": {
     "end_time": "2025-10-29T17:56:59.339393Z",
     "start_time": "2025-10-29T17:56:59.330256Z"
    }
   },
   "cell_type": "code",
   "source": [
    "prev_price_element = cells[8].find_element(By.CLASS_NAME, \"stara-cena-linija\")\n",
    "prev_price = driver.execute_script(\"return arguments[0].firstChild.nodeValue\", prev_price_element)\n",
    "prev_price"
   ],
   "id": "d274fc193e498171",
   "outputs": [
    {
     "data": {
      "text/plain": [
       "'25.990'"
      ]
     },
     "execution_count": 65,
     "metadata": {},
     "output_type": "execute_result"
    }
   ],
   "execution_count": 65
  },
  {
   "metadata": {},
   "cell_type": "markdown",
   "source": [
    "Extracting\n",
    "all\n",
    "the\n",
    "data\n",
    "with selenium."
   ],
   "id": "833da6cdeffd7387"
  },
  {
   "metadata": {
    "ExecuteTime": {
     "end_time": "2025-10-29T17:56:59.374024Z",
     "start_time": "2025-10-29T17:56:59.344313Z"
    }
   },
   "cell_type": "code",
   "source": [
    "data = []\n",
    "\n",
    "for cell in cells:\n",
    "    outer_html = cell.get_attribute(\"outerHTML\")\n",
    "    soup = BeautifulSoup(outer_html, \"html.parser\")\n",
    "    data.append(extraxt_all_data(soup))"
   ],
   "id": "a7790c6725f6f478",
   "outputs": [],
   "execution_count": 66
  },
  {
   "metadata": {},
   "cell_type": "markdown",
   "source": [
    "Print\n",
    "the\n",
    "first\n",
    "element\n",
    "of\n",
    "the\n",
    "data\n",
    "list.\n",
    "data[0]\n",
    "Create\n",
    "a\n",
    "dataframe\n",
    "from the gathered data."
   ],
   "id": "f264e828aa1b705d"
  },
  {
   "metadata": {
    "ExecuteTime": {
     "end_time": "2025-10-29T17:56:59.385034Z",
     "start_time": "2025-10-29T17:56:59.380016Z"
    }
   },
   "cell_type": "code",
   "source": [
    "df = pd.DataFrame(data)\n",
    "df"
   ],
   "id": "afb05ba5bb6db9f7",
   "outputs": [
    {
     "data": {
      "text/plain": [
       "  manufacturer                            model                   type  \\\n",
       "0        VIVAX              ACP-12CH35AEFIs R32  ИНВЕРТЕР СПЛИТ СИСТЕМ   \n",
       "1        TESLA          CLASSIC TA36FFLL-1232IA  ИНВЕРТЕР СПЛИТ СИСТЕМ   \n",
       "2        VIVAX              ACP-12CH35AEXIs R32  ИНВЕРТЕР СПЛИТ СИСТЕМ   \n",
       "3        VIVAX              ACP-09CH25AEQIS R32  ИНВЕРТЕР СПЛИТ СИСТЕМ   \n",
       "4        VIVAX                    ACP-09PT25AEG    МОБИЛНИ КЛИМА УРЕДИ   \n",
       "5        TOSOT  MUSE PREMIUM TWH12AFBXB-K6DNA5A  ИНВЕРТЕР СПЛИТ СИСТЕМ   \n",
       "6        VIVAX              ACP-09CH25AEMIS R32  ИНВЕРТЕР СПЛИТ СИСТЕМ   \n",
       "7        VIVAX              ACP-12CH35AEQIS R32  ИНВЕРТЕР СПЛИТ СИСТЕМ   \n",
       "8        TESLA          CLASSIC TT34EX21-1232IA  ИНВЕРТЕР СПЛИТ СИСТЕМ   \n",
       "\n",
       "  energy_class        power     temperature      area  \\\n",
       "0          A++  3517/3810 W  ОД -10℃ ДО 50℃  ДО 30 м2   \n",
       "1          A++  3400/3500 W  ОД -15℃ ДО 49℃  ДО 35 м2   \n",
       "2          A++  3520/3810 W  ОД -15℃ ДО 50℃  ДО 30 м2   \n",
       "3          A++  2638/2930 W  ОД -15℃ ДО 50℃  ДО 25 м2   \n",
       "4            A       2640 W   ОД 17℃ ДО 35℃  ДО 25 м2   \n",
       "5          A++  3200/3400 W  ОД -15℃ ДО 43℃  ДО 30 м2   \n",
       "6          A++  2638/2930 W  ОД -15℃ ДО 50℃  ДО 25 м2   \n",
       "7          A++  3517/3810 W  ОД -15℃ ДО 50℃  ДО 35 м2   \n",
       "8          A++  3400/3420 W  ОД -20℃ ДО 53℃  ДО 35 м2   \n",
       "\n",
       "                                           functions  warranty current  \\\n",
       "0  Внесете свежина во вашите домашни и деловни пр...  5 ГОДИНИ  17.990   \n",
       "1                                                  /  3 ГОДИНИ  18.990   \n",
       "2                                                  /  5 ГОДИНИ  19.990   \n",
       "3  Висока ефикасност, прикажување на самодијагноз...  5 ГОДИНИ  19.990   \n",
       "4  Тајмер, 3 стапки на проток на воздух, Рачно ра...  3 ГОДИНИ  19.990   \n",
       "5  Произведено од GREE. Самодијагноза, интелегент...  3 ГОДИНИ  19.990   \n",
       "6  Висока ефикасност, самодијагноза, 1W standby, ...  5 ГОДИНИ  19.990   \n",
       "7  Висока ефикасност, прикажување на самодијагноз...  5 ГОДИНИ  20.990   \n",
       "8                                                  /  3 ГОДИНИ  20.990   \n",
       "\n",
       "  previous  \n",
       "0   20.990  \n",
       "1     None  \n",
       "2   24.990  \n",
       "3   22.990  \n",
       "4     None  \n",
       "5   31.990  \n",
       "6   24.990  \n",
       "7   25.990  \n",
       "8   25.990  "
      ],
      "text/html": [
       "<div>\n",
       "<style scoped>\n",
       "    .dataframe tbody tr th:only-of-type {\n",
       "        vertical-align: middle;\n",
       "    }\n",
       "\n",
       "    .dataframe tbody tr th {\n",
       "        vertical-align: top;\n",
       "    }\n",
       "\n",
       "    .dataframe thead th {\n",
       "        text-align: right;\n",
       "    }\n",
       "</style>\n",
       "<table border=\"1\" class=\"dataframe\">\n",
       "  <thead>\n",
       "    <tr style=\"text-align: right;\">\n",
       "      <th></th>\n",
       "      <th>manufacturer</th>\n",
       "      <th>model</th>\n",
       "      <th>type</th>\n",
       "      <th>energy_class</th>\n",
       "      <th>power</th>\n",
       "      <th>temperature</th>\n",
       "      <th>area</th>\n",
       "      <th>functions</th>\n",
       "      <th>warranty</th>\n",
       "      <th>current</th>\n",
       "      <th>previous</th>\n",
       "    </tr>\n",
       "  </thead>\n",
       "  <tbody>\n",
       "    <tr>\n",
       "      <th>0</th>\n",
       "      <td>VIVAX</td>\n",
       "      <td>ACP-12CH35AEFIs R32</td>\n",
       "      <td>ИНВЕРТЕР СПЛИТ СИСТЕМ</td>\n",
       "      <td>A++</td>\n",
       "      <td>3517/3810 W</td>\n",
       "      <td>ОД -10℃ ДО 50℃</td>\n",
       "      <td>ДО 30 м2</td>\n",
       "      <td>Внесете свежина во вашите домашни и деловни пр...</td>\n",
       "      <td>5 ГОДИНИ</td>\n",
       "      <td>17.990</td>\n",
       "      <td>20.990</td>\n",
       "    </tr>\n",
       "    <tr>\n",
       "      <th>1</th>\n",
       "      <td>TESLA</td>\n",
       "      <td>CLASSIC TA36FFLL-1232IA</td>\n",
       "      <td>ИНВЕРТЕР СПЛИТ СИСТЕМ</td>\n",
       "      <td>A++</td>\n",
       "      <td>3400/3500 W</td>\n",
       "      <td>ОД -15℃ ДО 49℃</td>\n",
       "      <td>ДО 35 м2</td>\n",
       "      <td>/</td>\n",
       "      <td>3 ГОДИНИ</td>\n",
       "      <td>18.990</td>\n",
       "      <td>None</td>\n",
       "    </tr>\n",
       "    <tr>\n",
       "      <th>2</th>\n",
       "      <td>VIVAX</td>\n",
       "      <td>ACP-12CH35AEXIs R32</td>\n",
       "      <td>ИНВЕРТЕР СПЛИТ СИСТЕМ</td>\n",
       "      <td>A++</td>\n",
       "      <td>3520/3810 W</td>\n",
       "      <td>ОД -15℃ ДО 50℃</td>\n",
       "      <td>ДО 30 м2</td>\n",
       "      <td>/</td>\n",
       "      <td>5 ГОДИНИ</td>\n",
       "      <td>19.990</td>\n",
       "      <td>24.990</td>\n",
       "    </tr>\n",
       "    <tr>\n",
       "      <th>3</th>\n",
       "      <td>VIVAX</td>\n",
       "      <td>ACP-09CH25AEQIS R32</td>\n",
       "      <td>ИНВЕРТЕР СПЛИТ СИСТЕМ</td>\n",
       "      <td>A++</td>\n",
       "      <td>2638/2930 W</td>\n",
       "      <td>ОД -15℃ ДО 50℃</td>\n",
       "      <td>ДО 25 м2</td>\n",
       "      <td>Висока ефикасност, прикажување на самодијагноз...</td>\n",
       "      <td>5 ГОДИНИ</td>\n",
       "      <td>19.990</td>\n",
       "      <td>22.990</td>\n",
       "    </tr>\n",
       "    <tr>\n",
       "      <th>4</th>\n",
       "      <td>VIVAX</td>\n",
       "      <td>ACP-09PT25AEG</td>\n",
       "      <td>МОБИЛНИ КЛИМА УРЕДИ</td>\n",
       "      <td>A</td>\n",
       "      <td>2640 W</td>\n",
       "      <td>ОД 17℃ ДО 35℃</td>\n",
       "      <td>ДО 25 м2</td>\n",
       "      <td>Тајмер, 3 стапки на проток на воздух, Рачно ра...</td>\n",
       "      <td>3 ГОДИНИ</td>\n",
       "      <td>19.990</td>\n",
       "      <td>None</td>\n",
       "    </tr>\n",
       "    <tr>\n",
       "      <th>5</th>\n",
       "      <td>TOSOT</td>\n",
       "      <td>MUSE PREMIUM TWH12AFBXB-K6DNA5A</td>\n",
       "      <td>ИНВЕРТЕР СПЛИТ СИСТЕМ</td>\n",
       "      <td>A++</td>\n",
       "      <td>3200/3400 W</td>\n",
       "      <td>ОД -15℃ ДО 43℃</td>\n",
       "      <td>ДО 30 м2</td>\n",
       "      <td>Произведено од GREE. Самодијагноза, интелегент...</td>\n",
       "      <td>3 ГОДИНИ</td>\n",
       "      <td>19.990</td>\n",
       "      <td>31.990</td>\n",
       "    </tr>\n",
       "    <tr>\n",
       "      <th>6</th>\n",
       "      <td>VIVAX</td>\n",
       "      <td>ACP-09CH25AEMIS R32</td>\n",
       "      <td>ИНВЕРТЕР СПЛИТ СИСТЕМ</td>\n",
       "      <td>A++</td>\n",
       "      <td>2638/2930 W</td>\n",
       "      <td>ОД -15℃ ДО 50℃</td>\n",
       "      <td>ДО 25 м2</td>\n",
       "      <td>Висока ефикасност, самодијагноза, 1W standby, ...</td>\n",
       "      <td>5 ГОДИНИ</td>\n",
       "      <td>19.990</td>\n",
       "      <td>24.990</td>\n",
       "    </tr>\n",
       "    <tr>\n",
       "      <th>7</th>\n",
       "      <td>VIVAX</td>\n",
       "      <td>ACP-12CH35AEQIS R32</td>\n",
       "      <td>ИНВЕРТЕР СПЛИТ СИСТЕМ</td>\n",
       "      <td>A++</td>\n",
       "      <td>3517/3810 W</td>\n",
       "      <td>ОД -15℃ ДО 50℃</td>\n",
       "      <td>ДО 35 м2</td>\n",
       "      <td>Висока ефикасност, прикажување на самодијагноз...</td>\n",
       "      <td>5 ГОДИНИ</td>\n",
       "      <td>20.990</td>\n",
       "      <td>25.990</td>\n",
       "    </tr>\n",
       "    <tr>\n",
       "      <th>8</th>\n",
       "      <td>TESLA</td>\n",
       "      <td>CLASSIC TT34EX21-1232IA</td>\n",
       "      <td>ИНВЕРТЕР СПЛИТ СИСТЕМ</td>\n",
       "      <td>A++</td>\n",
       "      <td>3400/3420 W</td>\n",
       "      <td>ОД -20℃ ДО 53℃</td>\n",
       "      <td>ДО 35 м2</td>\n",
       "      <td>/</td>\n",
       "      <td>3 ГОДИНИ</td>\n",
       "      <td>20.990</td>\n",
       "      <td>25.990</td>\n",
       "    </tr>\n",
       "  </tbody>\n",
       "</table>\n",
       "</div>"
      ]
     },
     "execution_count": 67,
     "metadata": {},
     "output_type": "execute_result"
    }
   ],
   "execution_count": 67
  },
  {
   "metadata": {},
   "cell_type": "markdown",
   "source": [
    "Create\n",
    "a\n",
    "CSV\n",
    "file\n",
    "from the gathered data."
   ],
   "id": "a4091da9a176471c"
  },
  {
   "metadata": {
    "ExecuteTime": {
     "end_time": "2025-10-29T17:57:19.541971Z",
     "start_time": "2025-10-29T17:57:19.539205Z"
    }
   },
   "cell_type": "code",
   "source": "df.to_csv(\"/Users/jovanvelichkoski/PycharmProjects/IntroToDataScience/LaboratoryExercises/Ex.1\", index=False)",
   "id": "e8b2158ada005234",
   "outputs": [],
   "execution_count": 69
  },
  {
   "metadata": {},
   "cell_type": "markdown",
   "source": [
    "## Data Analysis\n",
    "\n",
    "Importing\n",
    "extra\n",
    "libraries:\n",
    "- re\n",
    "for regular expressions\n",
    "- numpy for numerical calculations\n",
    "-  matplotlib.pyplot and seaborn\n",
    "    for graphical representation of the data"
   ],
   "id": "69c9fc6d9682b6d2"
  },
  {
   "metadata": {
    "ExecuteTime": {
     "end_time": "2025-10-29T17:57:23.195943Z",
     "start_time": "2025-10-29T17:57:23.193914Z"
    }
   },
   "cell_type": "code",
   "source": [
    "import re\n",
    "import matplotlib.pyplot as plt\n",
    "import seaborn as sns"
   ],
   "id": "9d6b42eb42f24a41",
   "outputs": [],
   "execution_count": 70
  },
  {
   "metadata": {},
   "cell_type": "markdown",
   "source": [
    "\n",
    "Processing\n",
    "each\n",
    "column\n",
    "of\n",
    "the\n",
    "Dataframe\n",
    "created\n",
    "earlier."
   ],
   "id": "a5e3d49118b6a758"
  },
  {
   "metadata": {
    "ExecuteTime": {
     "end_time": "2025-10-29T17:57:40.753370Z",
     "start_time": "2025-10-29T17:57:40.750245Z"
    }
   },
   "cell_type": "code",
   "source": "df = pd.read_csv(\"/Users/jovanvelichkoski/PycharmProjects/IntroToDataScience/LaboratoryExercises/Ex.1\", dtype=str)",
   "id": "405bcde96edf39ee",
   "outputs": [],
   "execution_count": 72
  },
  {
   "metadata": {
    "ExecuteTime": {
     "end_time": "2025-10-29T17:57:42.291739Z",
     "start_time": "2025-10-29T17:57:42.288402Z"
    }
   },
   "cell_type": "code",
   "source": "df[\"manufacturer\"].unique()",
   "id": "9c5fad03c89c61ff",
   "outputs": [
    {
     "data": {
      "text/plain": [
       "array(['VIVAX', 'TESLA', 'TOSOT'], dtype=object)"
      ]
     },
     "execution_count": 73,
     "metadata": {},
     "output_type": "execute_result"
    }
   ],
   "execution_count": 73
  },
  {
   "metadata": {
    "ExecuteTime": {
     "end_time": "2025-10-29T17:57:43.811745Z",
     "start_time": "2025-10-29T17:57:43.808007Z"
    }
   },
   "cell_type": "code",
   "source": "df[\"type\"].unique()",
   "id": "d44d5c83de367787",
   "outputs": [
    {
     "data": {
      "text/plain": [
       "array(['ИНВЕРТЕР СПЛИТ СИСТЕМ', 'МОБИЛНИ КЛИМА УРЕДИ'], dtype=object)"
      ]
     },
     "execution_count": 74,
     "metadata": {},
     "output_type": "execute_result"
    }
   ],
   "execution_count": 74
  },
  {
   "metadata": {
    "ExecuteTime": {
     "end_time": "2025-10-29T17:57:45.422594Z",
     "start_time": "2025-10-29T17:57:45.419066Z"
    }
   },
   "cell_type": "code",
   "source": "df[\"energy_class\"].unique()",
   "id": "1cbfc1e6db6edea1",
   "outputs": [
    {
     "data": {
      "text/plain": [
       "array(['A++', 'A'], dtype=object)"
      ]
     },
     "execution_count": 75,
     "metadata": {},
     "output_type": "execute_result"
    }
   ],
   "execution_count": 75
  },
  {
   "metadata": {
    "ExecuteTime": {
     "end_time": "2025-10-29T17:57:46.618043Z",
     "start_time": "2025-10-29T17:57:46.615407Z"
    }
   },
   "cell_type": "code",
   "source": "df[\"power\"].unique()",
   "id": "2950ec689070cadc",
   "outputs": [
    {
     "data": {
      "text/plain": [
       "array(['3517/3810 W', '3400/3500 W', '3520/3810 W', '2638/2930 W',\n",
       "       '2640 W', '3200/3400 W', '3400/3420 W'], dtype=object)"
      ]
     },
     "execution_count": 76,
     "metadata": {},
     "output_type": "execute_result"
    }
   ],
   "execution_count": 76
  },
  {
   "metadata": {
    "ExecuteTime": {
     "end_time": "2025-10-29T17:57:48.264800Z",
     "start_time": "2025-10-29T17:57:48.261439Z"
    }
   },
   "cell_type": "code",
   "source": "df[\"temperature\"].unique()",
   "id": "503315e79d6820b2",
   "outputs": [
    {
     "data": {
      "text/plain": [
       "array(['ОД -10℃ ДО 50℃', 'ОД -15℃ ДО 49℃', 'ОД -15℃ ДО 50℃',\n",
       "       'ОД 17℃ ДО 35℃', 'ОД -15℃ ДО 43℃', 'ОД -20℃ ДО 53℃'], dtype=object)"
      ]
     },
     "execution_count": 77,
     "metadata": {},
     "output_type": "execute_result"
    }
   ],
   "execution_count": 77
  },
  {
   "metadata": {
    "ExecuteTime": {
     "end_time": "2025-10-29T17:57:50.034686Z",
     "start_time": "2025-10-29T17:57:50.031366Z"
    }
   },
   "cell_type": "code",
   "source": "df[\"area\"].unique()",
   "id": "3672a0ca9b39fce6",
   "outputs": [
    {
     "data": {
      "text/plain": [
       "array(['ДО 30 м2', 'ДО 35 м2', 'ДО 25 м2'], dtype=object)"
      ]
     },
     "execution_count": 78,
     "metadata": {},
     "output_type": "execute_result"
    }
   ],
   "execution_count": 78
  },
  {
   "metadata": {
    "ExecuteTime": {
     "end_time": "2025-10-29T17:57:50.896632Z",
     "start_time": "2025-10-29T17:57:50.894440Z"
    }
   },
   "cell_type": "code",
   "source": "df[\"functions\"].unique()",
   "id": "cf35665062252aea",
   "outputs": [
    {
     "data": {
      "text/plain": [
       "array(['Внесете свежина во вашите домашни и деловни простории и во најтешките летни денови!',\n",
       "       '/',\n",
       "       'Висока ефикасност, прикажување на самодијагноза, индикатор за истекување на гасот за разладување, 1W standby, турбо, заштита на вентил на надворешна единица, интелегентно отопување, 12 Fan Speed, безшумна опција, двосмерен одвод на кондензат, дигитален екран.',\n",
       "       'Тајмер, 3 стапки на проток на воздух, Рачно ракување, Повеќенасочни тркала.',\n",
       "       'Произведено од GREE. Самодијагноза, интелегентно отопување, аuto restart, нормален sleep mode,тајмер, turbo',\n",
       "       'Висока ефикасност, самодијагноза, 1W standby, заштита на вентил надворешна единица, 12 Fan Speed, self cleaning, индикатор за истекување на гасот за разладување, безшумна операција, двосмерен одвод на кондензат, дигитален екран, sleep mode, тајмер, интелегентно отопување, memory функција, турбо, припрема за Wi-Fi  ( WiFi ready )'],\n",
       "      dtype=object)"
      ]
     },
     "execution_count": 79,
     "metadata": {},
     "output_type": "execute_result"
    }
   ],
   "execution_count": 79
  },
  {
   "metadata": {
    "ExecuteTime": {
     "end_time": "2025-10-29T17:57:53.461937Z",
     "start_time": "2025-10-29T17:57:53.458766Z"
    }
   },
   "cell_type": "code",
   "source": "df[\"warranty\"].unique()",
   "id": "c59a16d210563afd",
   "outputs": [
    {
     "data": {
      "text/plain": [
       "array(['5 ГОДИНИ', '3 ГОДИНИ'], dtype=object)"
      ]
     },
     "execution_count": 80,
     "metadata": {},
     "output_type": "execute_result"
    }
   ],
   "execution_count": 80
  },
  {
   "metadata": {},
   "cell_type": "markdown",
   "source": [
    "Convert\n",
    "the\n",
    "power\n",
    "column\n",
    "into\n",
    "numbers."
   ],
   "id": "b588b565fe90bba7"
  },
  {
   "metadata": {
    "ExecuteTime": {
     "end_time": "2025-10-29T17:57:55.457373Z",
     "start_time": "2025-10-29T17:57:55.454414Z"
    }
   },
   "cell_type": "code",
   "source": [
    "def process_power(power):\n",
    "    numbers = re.findall(r\"\\d+\", power)\n",
    "    if len(numbers) == 1:\n",
    "        return numbers * 2\n",
    "    else:\n",
    "        return numbers"
   ],
   "id": "bf50ea656ea0c002",
   "outputs": [],
   "execution_count": 81
  },
  {
   "metadata": {
    "ExecuteTime": {
     "end_time": "2025-10-29T17:57:57.502952Z",
     "start_time": "2025-10-29T17:57:57.492939Z"
    }
   },
   "cell_type": "code",
   "source": [
    "df[[\"min_power\", \"max_power\"]] = df[\"power\"].apply(process_power).tolist()\n",
    "df[\"min_power\"] = df[\"min_power\"].astype(int)\n",
    "df[\"max_power\"] = df[\"max_power\"].astype(int)\n",
    "df.drop(columns=[\"power\"], inplace=True)\n",
    "df"
   ],
   "id": "7b40d55713308c91",
   "outputs": [
    {
     "data": {
      "text/plain": [
       "  manufacturer                            model                   type  \\\n",
       "0        VIVAX              ACP-12CH35AEFIs R32  ИНВЕРТЕР СПЛИТ СИСТЕМ   \n",
       "1        TESLA          CLASSIC TA36FFLL-1232IA  ИНВЕРТЕР СПЛИТ СИСТЕМ   \n",
       "2        VIVAX              ACP-12CH35AEXIs R32  ИНВЕРТЕР СПЛИТ СИСТЕМ   \n",
       "3        VIVAX              ACP-09CH25AEQIS R32  ИНВЕРТЕР СПЛИТ СИСТЕМ   \n",
       "4        VIVAX                    ACP-09PT25AEG    МОБИЛНИ КЛИМА УРЕДИ   \n",
       "5        TOSOT  MUSE PREMIUM TWH12AFBXB-K6DNA5A  ИНВЕРТЕР СПЛИТ СИСТЕМ   \n",
       "6        VIVAX              ACP-09CH25AEMIS R32  ИНВЕРТЕР СПЛИТ СИСТЕМ   \n",
       "7        VIVAX              ACP-12CH35AEQIS R32  ИНВЕРТЕР СПЛИТ СИСТЕМ   \n",
       "8        TESLA          CLASSIC TT34EX21-1232IA  ИНВЕРТЕР СПЛИТ СИСТЕМ   \n",
       "\n",
       "  energy_class     temperature      area  \\\n",
       "0          A++  ОД -10℃ ДО 50℃  ДО 30 м2   \n",
       "1          A++  ОД -15℃ ДО 49℃  ДО 35 м2   \n",
       "2          A++  ОД -15℃ ДО 50℃  ДО 30 м2   \n",
       "3          A++  ОД -15℃ ДО 50℃  ДО 25 м2   \n",
       "4            A   ОД 17℃ ДО 35℃  ДО 25 м2   \n",
       "5          A++  ОД -15℃ ДО 43℃  ДО 30 м2   \n",
       "6          A++  ОД -15℃ ДО 50℃  ДО 25 м2   \n",
       "7          A++  ОД -15℃ ДО 50℃  ДО 35 м2   \n",
       "8          A++  ОД -20℃ ДО 53℃  ДО 35 м2   \n",
       "\n",
       "                                           functions  warranty current  \\\n",
       "0  Внесете свежина во вашите домашни и деловни пр...  5 ГОДИНИ  17.990   \n",
       "1                                                  /  3 ГОДИНИ  18.990   \n",
       "2                                                  /  5 ГОДИНИ  19.990   \n",
       "3  Висока ефикасност, прикажување на самодијагноз...  5 ГОДИНИ  19.990   \n",
       "4  Тајмер, 3 стапки на проток на воздух, Рачно ра...  3 ГОДИНИ  19.990   \n",
       "5  Произведено од GREE. Самодијагноза, интелегент...  3 ГОДИНИ  19.990   \n",
       "6  Висока ефикасност, самодијагноза, 1W standby, ...  5 ГОДИНИ  19.990   \n",
       "7  Висока ефикасност, прикажување на самодијагноз...  5 ГОДИНИ  20.990   \n",
       "8                                                  /  3 ГОДИНИ  20.990   \n",
       "\n",
       "  previous  min_power  max_power  \n",
       "0   20.990       3517       3810  \n",
       "1      NaN       3400       3500  \n",
       "2   24.990       3520       3810  \n",
       "3   22.990       2638       2930  \n",
       "4      NaN       2640       2640  \n",
       "5   31.990       3200       3400  \n",
       "6   24.990       2638       2930  \n",
       "7   25.990       3517       3810  \n",
       "8   25.990       3400       3420  "
      ],
      "text/html": [
       "<div>\n",
       "<style scoped>\n",
       "    .dataframe tbody tr th:only-of-type {\n",
       "        vertical-align: middle;\n",
       "    }\n",
       "\n",
       "    .dataframe tbody tr th {\n",
       "        vertical-align: top;\n",
       "    }\n",
       "\n",
       "    .dataframe thead th {\n",
       "        text-align: right;\n",
       "    }\n",
       "</style>\n",
       "<table border=\"1\" class=\"dataframe\">\n",
       "  <thead>\n",
       "    <tr style=\"text-align: right;\">\n",
       "      <th></th>\n",
       "      <th>manufacturer</th>\n",
       "      <th>model</th>\n",
       "      <th>type</th>\n",
       "      <th>energy_class</th>\n",
       "      <th>temperature</th>\n",
       "      <th>area</th>\n",
       "      <th>functions</th>\n",
       "      <th>warranty</th>\n",
       "      <th>current</th>\n",
       "      <th>previous</th>\n",
       "      <th>min_power</th>\n",
       "      <th>max_power</th>\n",
       "    </tr>\n",
       "  </thead>\n",
       "  <tbody>\n",
       "    <tr>\n",
       "      <th>0</th>\n",
       "      <td>VIVAX</td>\n",
       "      <td>ACP-12CH35AEFIs R32</td>\n",
       "      <td>ИНВЕРТЕР СПЛИТ СИСТЕМ</td>\n",
       "      <td>A++</td>\n",
       "      <td>ОД -10℃ ДО 50℃</td>\n",
       "      <td>ДО 30 м2</td>\n",
       "      <td>Внесете свежина во вашите домашни и деловни пр...</td>\n",
       "      <td>5 ГОДИНИ</td>\n",
       "      <td>17.990</td>\n",
       "      <td>20.990</td>\n",
       "      <td>3517</td>\n",
       "      <td>3810</td>\n",
       "    </tr>\n",
       "    <tr>\n",
       "      <th>1</th>\n",
       "      <td>TESLA</td>\n",
       "      <td>CLASSIC TA36FFLL-1232IA</td>\n",
       "      <td>ИНВЕРТЕР СПЛИТ СИСТЕМ</td>\n",
       "      <td>A++</td>\n",
       "      <td>ОД -15℃ ДО 49℃</td>\n",
       "      <td>ДО 35 м2</td>\n",
       "      <td>/</td>\n",
       "      <td>3 ГОДИНИ</td>\n",
       "      <td>18.990</td>\n",
       "      <td>NaN</td>\n",
       "      <td>3400</td>\n",
       "      <td>3500</td>\n",
       "    </tr>\n",
       "    <tr>\n",
       "      <th>2</th>\n",
       "      <td>VIVAX</td>\n",
       "      <td>ACP-12CH35AEXIs R32</td>\n",
       "      <td>ИНВЕРТЕР СПЛИТ СИСТЕМ</td>\n",
       "      <td>A++</td>\n",
       "      <td>ОД -15℃ ДО 50℃</td>\n",
       "      <td>ДО 30 м2</td>\n",
       "      <td>/</td>\n",
       "      <td>5 ГОДИНИ</td>\n",
       "      <td>19.990</td>\n",
       "      <td>24.990</td>\n",
       "      <td>3520</td>\n",
       "      <td>3810</td>\n",
       "    </tr>\n",
       "    <tr>\n",
       "      <th>3</th>\n",
       "      <td>VIVAX</td>\n",
       "      <td>ACP-09CH25AEQIS R32</td>\n",
       "      <td>ИНВЕРТЕР СПЛИТ СИСТЕМ</td>\n",
       "      <td>A++</td>\n",
       "      <td>ОД -15℃ ДО 50℃</td>\n",
       "      <td>ДО 25 м2</td>\n",
       "      <td>Висока ефикасност, прикажување на самодијагноз...</td>\n",
       "      <td>5 ГОДИНИ</td>\n",
       "      <td>19.990</td>\n",
       "      <td>22.990</td>\n",
       "      <td>2638</td>\n",
       "      <td>2930</td>\n",
       "    </tr>\n",
       "    <tr>\n",
       "      <th>4</th>\n",
       "      <td>VIVAX</td>\n",
       "      <td>ACP-09PT25AEG</td>\n",
       "      <td>МОБИЛНИ КЛИМА УРЕДИ</td>\n",
       "      <td>A</td>\n",
       "      <td>ОД 17℃ ДО 35℃</td>\n",
       "      <td>ДО 25 м2</td>\n",
       "      <td>Тајмер, 3 стапки на проток на воздух, Рачно ра...</td>\n",
       "      <td>3 ГОДИНИ</td>\n",
       "      <td>19.990</td>\n",
       "      <td>NaN</td>\n",
       "      <td>2640</td>\n",
       "      <td>2640</td>\n",
       "    </tr>\n",
       "    <tr>\n",
       "      <th>5</th>\n",
       "      <td>TOSOT</td>\n",
       "      <td>MUSE PREMIUM TWH12AFBXB-K6DNA5A</td>\n",
       "      <td>ИНВЕРТЕР СПЛИТ СИСТЕМ</td>\n",
       "      <td>A++</td>\n",
       "      <td>ОД -15℃ ДО 43℃</td>\n",
       "      <td>ДО 30 м2</td>\n",
       "      <td>Произведено од GREE. Самодијагноза, интелегент...</td>\n",
       "      <td>3 ГОДИНИ</td>\n",
       "      <td>19.990</td>\n",
       "      <td>31.990</td>\n",
       "      <td>3200</td>\n",
       "      <td>3400</td>\n",
       "    </tr>\n",
       "    <tr>\n",
       "      <th>6</th>\n",
       "      <td>VIVAX</td>\n",
       "      <td>ACP-09CH25AEMIS R32</td>\n",
       "      <td>ИНВЕРТЕР СПЛИТ СИСТЕМ</td>\n",
       "      <td>A++</td>\n",
       "      <td>ОД -15℃ ДО 50℃</td>\n",
       "      <td>ДО 25 м2</td>\n",
       "      <td>Висока ефикасност, самодијагноза, 1W standby, ...</td>\n",
       "      <td>5 ГОДИНИ</td>\n",
       "      <td>19.990</td>\n",
       "      <td>24.990</td>\n",
       "      <td>2638</td>\n",
       "      <td>2930</td>\n",
       "    </tr>\n",
       "    <tr>\n",
       "      <th>7</th>\n",
       "      <td>VIVAX</td>\n",
       "      <td>ACP-12CH35AEQIS R32</td>\n",
       "      <td>ИНВЕРТЕР СПЛИТ СИСТЕМ</td>\n",
       "      <td>A++</td>\n",
       "      <td>ОД -15℃ ДО 50℃</td>\n",
       "      <td>ДО 35 м2</td>\n",
       "      <td>Висока ефикасност, прикажување на самодијагноз...</td>\n",
       "      <td>5 ГОДИНИ</td>\n",
       "      <td>20.990</td>\n",
       "      <td>25.990</td>\n",
       "      <td>3517</td>\n",
       "      <td>3810</td>\n",
       "    </tr>\n",
       "    <tr>\n",
       "      <th>8</th>\n",
       "      <td>TESLA</td>\n",
       "      <td>CLASSIC TT34EX21-1232IA</td>\n",
       "      <td>ИНВЕРТЕР СПЛИТ СИСТЕМ</td>\n",
       "      <td>A++</td>\n",
       "      <td>ОД -20℃ ДО 53℃</td>\n",
       "      <td>ДО 35 м2</td>\n",
       "      <td>/</td>\n",
       "      <td>3 ГОДИНИ</td>\n",
       "      <td>20.990</td>\n",
       "      <td>25.990</td>\n",
       "      <td>3400</td>\n",
       "      <td>3420</td>\n",
       "    </tr>\n",
       "  </tbody>\n",
       "</table>\n",
       "</div>"
      ]
     },
     "execution_count": 82,
     "metadata": {},
     "output_type": "execute_result"
    }
   ],
   "execution_count": 82
  },
  {
   "metadata": {},
   "cell_type": "markdown",
   "source": [
    "\n",
    "Converting\n",
    "the\n",
    "temperature\n",
    "column\n",
    "into\n",
    "min_temp and max_temp\n",
    "columns(numbers)."
   ],
   "id": "8e9eaba746f0f1fe"
  },
  {
   "metadata": {
    "ExecuteTime": {
     "end_time": "2025-10-29T17:58:00.048446Z",
     "start_time": "2025-10-29T17:58:00.046276Z"
    }
   },
   "cell_type": "code",
   "source": [
    "def process_temperature(temp):\n",
    "    temps = re.findall(r\"-?\\d+\", temp)\n",
    "    return temps"
   ],
   "id": "9aeccda6a32d5f9",
   "outputs": [],
   "execution_count": 83
  },
  {
   "metadata": {
    "ExecuteTime": {
     "end_time": "2025-10-29T17:58:01.071734Z",
     "start_time": "2025-10-29T17:58:01.062992Z"
    }
   },
   "cell_type": "code",
   "source": [
    "df[[\"min_temp\", \"max_temp\"]] = df[\"temperature\"].apply(process_temperature).tolist()\n",
    "df[\"min_temp\"] = df[\"min_temp\"].astype(int)\n",
    "df[\"max_temp\"] = df[\"max_temp\"].astype(int)\n",
    "df.drop(columns=[\"temperature\"], inplace=True)\n",
    "df"
   ],
   "id": "3a0dea18402272bd",
   "outputs": [
    {
     "data": {
      "text/plain": [
       "  manufacturer                            model                   type  \\\n",
       "0        VIVAX              ACP-12CH35AEFIs R32  ИНВЕРТЕР СПЛИТ СИСТЕМ   \n",
       "1        TESLA          CLASSIC TA36FFLL-1232IA  ИНВЕРТЕР СПЛИТ СИСТЕМ   \n",
       "2        VIVAX              ACP-12CH35AEXIs R32  ИНВЕРТЕР СПЛИТ СИСТЕМ   \n",
       "3        VIVAX              ACP-09CH25AEQIS R32  ИНВЕРТЕР СПЛИТ СИСТЕМ   \n",
       "4        VIVAX                    ACP-09PT25AEG    МОБИЛНИ КЛИМА УРЕДИ   \n",
       "5        TOSOT  MUSE PREMIUM TWH12AFBXB-K6DNA5A  ИНВЕРТЕР СПЛИТ СИСТЕМ   \n",
       "6        VIVAX              ACP-09CH25AEMIS R32  ИНВЕРТЕР СПЛИТ СИСТЕМ   \n",
       "7        VIVAX              ACP-12CH35AEQIS R32  ИНВЕРТЕР СПЛИТ СИСТЕМ   \n",
       "8        TESLA          CLASSIC TT34EX21-1232IA  ИНВЕРТЕР СПЛИТ СИСТЕМ   \n",
       "\n",
       "  energy_class      area                                          functions  \\\n",
       "0          A++  ДО 30 м2  Внесете свежина во вашите домашни и деловни пр...   \n",
       "1          A++  ДО 35 м2                                                  /   \n",
       "2          A++  ДО 30 м2                                                  /   \n",
       "3          A++  ДО 25 м2  Висока ефикасност, прикажување на самодијагноз...   \n",
       "4            A  ДО 25 м2  Тајмер, 3 стапки на проток на воздух, Рачно ра...   \n",
       "5          A++  ДО 30 м2  Произведено од GREE. Самодијагноза, интелегент...   \n",
       "6          A++  ДО 25 м2  Висока ефикасност, самодијагноза, 1W standby, ...   \n",
       "7          A++  ДО 35 м2  Висока ефикасност, прикажување на самодијагноз...   \n",
       "8          A++  ДО 35 м2                                                  /   \n",
       "\n",
       "   warranty current previous  min_power  max_power  min_temp  max_temp  \n",
       "0  5 ГОДИНИ  17.990   20.990       3517       3810       -10        50  \n",
       "1  3 ГОДИНИ  18.990      NaN       3400       3500       -15        49  \n",
       "2  5 ГОДИНИ  19.990   24.990       3520       3810       -15        50  \n",
       "3  5 ГОДИНИ  19.990   22.990       2638       2930       -15        50  \n",
       "4  3 ГОДИНИ  19.990      NaN       2640       2640        17        35  \n",
       "5  3 ГОДИНИ  19.990   31.990       3200       3400       -15        43  \n",
       "6  5 ГОДИНИ  19.990   24.990       2638       2930       -15        50  \n",
       "7  5 ГОДИНИ  20.990   25.990       3517       3810       -15        50  \n",
       "8  3 ГОДИНИ  20.990   25.990       3400       3420       -20        53  "
      ],
      "text/html": [
       "<div>\n",
       "<style scoped>\n",
       "    .dataframe tbody tr th:only-of-type {\n",
       "        vertical-align: middle;\n",
       "    }\n",
       "\n",
       "    .dataframe tbody tr th {\n",
       "        vertical-align: top;\n",
       "    }\n",
       "\n",
       "    .dataframe thead th {\n",
       "        text-align: right;\n",
       "    }\n",
       "</style>\n",
       "<table border=\"1\" class=\"dataframe\">\n",
       "  <thead>\n",
       "    <tr style=\"text-align: right;\">\n",
       "      <th></th>\n",
       "      <th>manufacturer</th>\n",
       "      <th>model</th>\n",
       "      <th>type</th>\n",
       "      <th>energy_class</th>\n",
       "      <th>area</th>\n",
       "      <th>functions</th>\n",
       "      <th>warranty</th>\n",
       "      <th>current</th>\n",
       "      <th>previous</th>\n",
       "      <th>min_power</th>\n",
       "      <th>max_power</th>\n",
       "      <th>min_temp</th>\n",
       "      <th>max_temp</th>\n",
       "    </tr>\n",
       "  </thead>\n",
       "  <tbody>\n",
       "    <tr>\n",
       "      <th>0</th>\n",
       "      <td>VIVAX</td>\n",
       "      <td>ACP-12CH35AEFIs R32</td>\n",
       "      <td>ИНВЕРТЕР СПЛИТ СИСТЕМ</td>\n",
       "      <td>A++</td>\n",
       "      <td>ДО 30 м2</td>\n",
       "      <td>Внесете свежина во вашите домашни и деловни пр...</td>\n",
       "      <td>5 ГОДИНИ</td>\n",
       "      <td>17.990</td>\n",
       "      <td>20.990</td>\n",
       "      <td>3517</td>\n",
       "      <td>3810</td>\n",
       "      <td>-10</td>\n",
       "      <td>50</td>\n",
       "    </tr>\n",
       "    <tr>\n",
       "      <th>1</th>\n",
       "      <td>TESLA</td>\n",
       "      <td>CLASSIC TA36FFLL-1232IA</td>\n",
       "      <td>ИНВЕРТЕР СПЛИТ СИСТЕМ</td>\n",
       "      <td>A++</td>\n",
       "      <td>ДО 35 м2</td>\n",
       "      <td>/</td>\n",
       "      <td>3 ГОДИНИ</td>\n",
       "      <td>18.990</td>\n",
       "      <td>NaN</td>\n",
       "      <td>3400</td>\n",
       "      <td>3500</td>\n",
       "      <td>-15</td>\n",
       "      <td>49</td>\n",
       "    </tr>\n",
       "    <tr>\n",
       "      <th>2</th>\n",
       "      <td>VIVAX</td>\n",
       "      <td>ACP-12CH35AEXIs R32</td>\n",
       "      <td>ИНВЕРТЕР СПЛИТ СИСТЕМ</td>\n",
       "      <td>A++</td>\n",
       "      <td>ДО 30 м2</td>\n",
       "      <td>/</td>\n",
       "      <td>5 ГОДИНИ</td>\n",
       "      <td>19.990</td>\n",
       "      <td>24.990</td>\n",
       "      <td>3520</td>\n",
       "      <td>3810</td>\n",
       "      <td>-15</td>\n",
       "      <td>50</td>\n",
       "    </tr>\n",
       "    <tr>\n",
       "      <th>3</th>\n",
       "      <td>VIVAX</td>\n",
       "      <td>ACP-09CH25AEQIS R32</td>\n",
       "      <td>ИНВЕРТЕР СПЛИТ СИСТЕМ</td>\n",
       "      <td>A++</td>\n",
       "      <td>ДО 25 м2</td>\n",
       "      <td>Висока ефикасност, прикажување на самодијагноз...</td>\n",
       "      <td>5 ГОДИНИ</td>\n",
       "      <td>19.990</td>\n",
       "      <td>22.990</td>\n",
       "      <td>2638</td>\n",
       "      <td>2930</td>\n",
       "      <td>-15</td>\n",
       "      <td>50</td>\n",
       "    </tr>\n",
       "    <tr>\n",
       "      <th>4</th>\n",
       "      <td>VIVAX</td>\n",
       "      <td>ACP-09PT25AEG</td>\n",
       "      <td>МОБИЛНИ КЛИМА УРЕДИ</td>\n",
       "      <td>A</td>\n",
       "      <td>ДО 25 м2</td>\n",
       "      <td>Тајмер, 3 стапки на проток на воздух, Рачно ра...</td>\n",
       "      <td>3 ГОДИНИ</td>\n",
       "      <td>19.990</td>\n",
       "      <td>NaN</td>\n",
       "      <td>2640</td>\n",
       "      <td>2640</td>\n",
       "      <td>17</td>\n",
       "      <td>35</td>\n",
       "    </tr>\n",
       "    <tr>\n",
       "      <th>5</th>\n",
       "      <td>TOSOT</td>\n",
       "      <td>MUSE PREMIUM TWH12AFBXB-K6DNA5A</td>\n",
       "      <td>ИНВЕРТЕР СПЛИТ СИСТЕМ</td>\n",
       "      <td>A++</td>\n",
       "      <td>ДО 30 м2</td>\n",
       "      <td>Произведено од GREE. Самодијагноза, интелегент...</td>\n",
       "      <td>3 ГОДИНИ</td>\n",
       "      <td>19.990</td>\n",
       "      <td>31.990</td>\n",
       "      <td>3200</td>\n",
       "      <td>3400</td>\n",
       "      <td>-15</td>\n",
       "      <td>43</td>\n",
       "    </tr>\n",
       "    <tr>\n",
       "      <th>6</th>\n",
       "      <td>VIVAX</td>\n",
       "      <td>ACP-09CH25AEMIS R32</td>\n",
       "      <td>ИНВЕРТЕР СПЛИТ СИСТЕМ</td>\n",
       "      <td>A++</td>\n",
       "      <td>ДО 25 м2</td>\n",
       "      <td>Висока ефикасност, самодијагноза, 1W standby, ...</td>\n",
       "      <td>5 ГОДИНИ</td>\n",
       "      <td>19.990</td>\n",
       "      <td>24.990</td>\n",
       "      <td>2638</td>\n",
       "      <td>2930</td>\n",
       "      <td>-15</td>\n",
       "      <td>50</td>\n",
       "    </tr>\n",
       "    <tr>\n",
       "      <th>7</th>\n",
       "      <td>VIVAX</td>\n",
       "      <td>ACP-12CH35AEQIS R32</td>\n",
       "      <td>ИНВЕРТЕР СПЛИТ СИСТЕМ</td>\n",
       "      <td>A++</td>\n",
       "      <td>ДО 35 м2</td>\n",
       "      <td>Висока ефикасност, прикажување на самодијагноз...</td>\n",
       "      <td>5 ГОДИНИ</td>\n",
       "      <td>20.990</td>\n",
       "      <td>25.990</td>\n",
       "      <td>3517</td>\n",
       "      <td>3810</td>\n",
       "      <td>-15</td>\n",
       "      <td>50</td>\n",
       "    </tr>\n",
       "    <tr>\n",
       "      <th>8</th>\n",
       "      <td>TESLA</td>\n",
       "      <td>CLASSIC TT34EX21-1232IA</td>\n",
       "      <td>ИНВЕРТЕР СПЛИТ СИСТЕМ</td>\n",
       "      <td>A++</td>\n",
       "      <td>ДО 35 м2</td>\n",
       "      <td>/</td>\n",
       "      <td>3 ГОДИНИ</td>\n",
       "      <td>20.990</td>\n",
       "      <td>25.990</td>\n",
       "      <td>3400</td>\n",
       "      <td>3420</td>\n",
       "      <td>-20</td>\n",
       "      <td>53</td>\n",
       "    </tr>\n",
       "  </tbody>\n",
       "</table>\n",
       "</div>"
      ]
     },
     "execution_count": 84,
     "metadata": {},
     "output_type": "execute_result"
    }
   ],
   "execution_count": 84
  },
  {
   "metadata": {},
   "cell_type": "markdown",
   "source": [
    "Converting\n",
    "the\n",
    "current and previous\n",
    "price\n",
    "data\n",
    "from a string to\n",
    "an\n",
    "integer."
   ],
   "id": "2c8f69a8b5ef67e7"
  },
  {
   "metadata": {
    "ExecuteTime": {
     "end_time": "2025-10-29T17:58:03.915679Z",
     "start_time": "2025-10-29T17:58:03.911890Z"
    }
   },
   "cell_type": "code",
   "source": [
    "df[\"current\"] = df[\"current\"].apply(lambda price: price.replace(\".\", \"\"))\n",
    "df[\"current\"] = df[\"current\"].astype(float)\n",
    "df[\"previous\"] = df[\"previous\"].apply(lambda price: price.replace(\".\", \"\") if not pd.isna(price) else np.nan)\n",
    "df[\"previous\"] = df[\"previous\"].astype(float)"
   ],
   "id": "a60ddaca02e064e2",
   "outputs": [],
   "execution_count": 85
  },
  {
   "metadata": {},
   "cell_type": "markdown",
   "source": [
    "## Data Visualisation\n",
    "Histogram is used\n",
    "to\n",
    "how\n",
    "current\n",
    "prices\n",
    "are\n",
    "distributed.It\n",
    "groups\n",
    "the\n",
    "elements in to\n",
    "columns.Although\n",
    "similar\n",
    "to\n",
    "a\n",
    "graph\n",
    "the\n",
    "histogram\n",
    "works\n",
    "with continuous data."
   ],
   "id": "cd6ea5a3475d4298"
  },
  {
   "metadata": {
    "ExecuteTime": {
     "end_time": "2025-10-29T17:58:06.385677Z",
     "start_time": "2025-10-29T17:58:05.901642Z"
    }
   },
   "cell_type": "code",
   "source": "df[\"current\"].hist()",
   "id": "a1c44676fc42762a",
   "outputs": [
    {
     "data": {
      "text/plain": [
       "<Axes: >"
      ]
     },
     "execution_count": 86,
     "metadata": {},
     "output_type": "execute_result"
    },
    {
     "data": {
      "text/plain": [
       "<Figure size 640x480 with 1 Axes>"
      ],
      "image/png": "[encoded data removed]"
     },
     "metadata": {},
     "output_type": "display_data",
     "jetTransient": {
      "display_id": null
     }
    }
   ],
   "execution_count": 86
  },
  {
   "metadata": {
    "ExecuteTime": {
     "end_time": "2025-10-29T17:58:08.631755Z",
     "start_time": "2025-10-29T17:58:08.576937Z"
    }
   },
   "cell_type": "code",
   "source": [
    "plt.figure(figsize=(6, 4))\n",
    "plt.hist(df[\"current\"], bins=5)\n",
    "plt.show()"
   ],
   "id": "e29b533ddc1810ea",
   "outputs": [
    {
     "data": {
      "text/plain": [
       "<Figure size 600x400 with 1 Axes>"
      ],
      "image/png": "[encoded data removed]"
     },
     "metadata": {},
     "output_type": "display_data",
     "jetTransient": {
      "display_id": null
     }
    }
   ],
   "execution_count": 87
  },
  {
   "metadata": {
    "ExecuteTime": {
     "end_time": "2025-10-29T17:58:11.023138Z",
     "start_time": "2025-10-29T17:58:10.965532Z"
    }
   },
   "cell_type": "code",
   "source": [
    "plt.figure(figsize=(6, 4))\n",
    "plt.hist(df[\"current\"], bins=5)\n",
    "plt.hist(df[\"previous\"], bins=5)\n",
    "plt.show()"
   ],
   "id": "ec37bd003f33bc35",
   "outputs": [
    {
     "data": {
      "text/plain": [
       "<Figure size 600x400 with 1 Axes>"
      ],
      "image/png": "[encoded data removed]"
     },
     "metadata": {},
     "output_type": "display_data",
     "jetTransient": {
      "display_id": null
     }
    }
   ],
   "execution_count": 88
  },
  {
   "metadata": {
    "ExecuteTime": {
     "end_time": "2025-10-29T17:58:13.632789Z",
     "start_time": "2025-10-29T17:58:13.551934Z"
    }
   },
   "cell_type": "code",
   "source": "sns.histplot(df[\"current\"], kde=True, bins=15)",
   "id": "e558ca31d1490d65",
   "outputs": [
    {
     "data": {
      "text/plain": [
       "<Axes: xlabel='current', ylabel='Count'>"
      ]
     },
     "execution_count": 89,
     "metadata": {},
     "output_type": "execute_result"
    },
    {
     "data": {
      "text/plain": [
       "<Figure size 640x480 with 1 Axes>"
      ],
      "image/png": "[encoded data removed]"
     },
     "metadata": {},
     "output_type": "display_data",
     "jetTransient": {
      "display_id": null
     }
    }
   ],
   "execution_count": 89
  },
  {
   "metadata": {},
   "cell_type": "markdown",
   "source": [
    "Bar\n",
    "plot - show\n",
    "how\n",
    "many\n",
    "product\n",
    "belong\n",
    "to\n",
    "each\n",
    "type.Overview\n",
    "of\n",
    "which\n",
    "product\n",
    "types\n",
    "dominate\n",
    "the\n",
    "market."
   ],
   "id": "7356c48e4b73a850"
  },
  {
   "metadata": {
    "ExecuteTime": {
     "end_time": "2025-10-29T17:58:16.489341Z",
     "start_time": "2025-10-29T17:58:16.434309Z"
    }
   },
   "cell_type": "code",
   "source": "df[\"type\"].value_counts().plot.bar()",
   "id": "27d8d5c0387a935e",
   "outputs": [
    {
     "data": {
      "text/plain": [
       "<Axes: xlabel='type'>"
      ]
     },
     "execution_count": 90,
     "metadata": {},
     "output_type": "execute_result"
    },
    {
     "data": {
      "text/plain": [
       "<Figure size 640x480 with 1 Axes>"
      ],
      "image/png": "[encoded data removed]"
     },
     "metadata": {},
     "output_type": "display_data",
     "jetTransient": {
      "display_id": null
     }
    }
   ],
   "execution_count": 90
  },
  {
   "metadata": {
    "ExecuteTime": {
     "end_time": "2025-10-29T17:58:18.074113Z",
     "start_time": "2025-10-29T17:58:18.032509Z"
    }
   },
   "cell_type": "code",
   "source": [
    "counts_per_type = df[\"type\"].value_counts()\n",
    "plt.bar(counts_per_type.index, counts_per_type)\n",
    "plt.xticks(rotation=90)\n",
    "plt.show()"
   ],
   "id": "32511d5cffdb724b",
   "outputs": [
    {
     "data": {
      "text/plain": [
       "<Figure size 640x480 with 1 Axes>"
      ],
      "image/png": "[encoded data removed]"
     },
     "metadata": {},
     "output_type": "display_data",
     "jetTransient": {
      "display_id": null
     }
    }
   ],
   "execution_count": 91
  },
  {
   "metadata": {},
   "cell_type": "markdown",
   "source": [
    "Box\n",
    "plot - used\n",
    "to\n",
    "show\n",
    "how\n",
    "prices\n",
    "are\n",
    "spread\n",
    "out and detect\n",
    "potential\n",
    "outliers, They\n",
    "summarize\n",
    "the\n",
    "meadian, quartiles and extremes\n",
    "of\n",
    "the\n",
    "pricing\n",
    "data."
   ],
   "id": "95aca3d3fafe9733"
  },
  {
   "metadata": {
    "ExecuteTime": {
     "end_time": "2025-10-29T17:58:20.135355Z",
     "start_time": "2025-10-29T17:58:20.002976Z"
    }
   },
   "cell_type": "code",
   "source": [
    "df[\"current\"].plot.box()\n",
    "plt.boxplot(df[\"current\"])\n",
    "plt.show()"
   ],
   "id": "7d3aa35f1a293bff",
   "outputs": [
    {
     "data": {
      "text/plain": [
       "<Figure size 640x480 with 1 Axes>"
      ],
      "image/png": "[encoded data removed]"
     },
     "metadata": {},
     "output_type": "display_data",
     "jetTransient": {
      "display_id": null
     }
    }
   ],
   "execution_count": 92
  },
  {
   "metadata": {},
   "cell_type": "markdown",
   "source": [
    "Comparing\n",
    "price\n",
    "distribution\n",
    "between\n",
    "different\n",
    "types\n",
    "of\n",
    "products."
   ],
   "id": "bb39a48f5aef6ba2"
  },
  {
   "metadata": {
    "ExecuteTime": {
     "end_time": "2025-10-29T17:58:22.718565Z",
     "start_time": "2025-10-29T17:58:22.651201Z"
    }
   },
   "cell_type": "code",
   "source": "sns.boxenplot(df, x=\"current\", y=\"type\")",
   "id": "d0d44c826b5a0313",
   "outputs": [
    {
     "data": {
      "text/plain": [
       "<Axes: xlabel='current', ylabel='type'>"
      ]
     },
     "execution_count": 93,
     "metadata": {},
     "output_type": "execute_result"
    },
    {
     "data": {
      "text/plain": [
       "<Figure size 640x480 with 1 Axes>"
      ],
      "image/png": "[encoded data removed]"
     },
     "metadata": {},
     "output_type": "display_data",
     "jetTransient": {
      "display_id": null
     }
    }
   ],
   "execution_count": 93
  },
  {
   "metadata": {
    "ExecuteTime": {
     "end_time": "2025-10-29T17:58:24.858671Z",
     "start_time": "2025-10-29T17:58:24.802376Z"
    }
   },
   "cell_type": "code",
   "source": "sns.boxenplot(df, x=\"current\", y=\"manufacturer\")",
   "id": "2616ce565c1703f8",
   "outputs": [
    {
     "data": {
      "text/plain": [
       "<Axes: xlabel='current', ylabel='manufacturer'>"
      ]
     },
     "execution_count": 94,
     "metadata": {},
     "output_type": "execute_result"
    },
    {
     "data": {
      "text/plain": [
       "<Figure size 640x480 with 1 Axes>"
      ],
      "image/png": "[encoded data removed]"
     },
     "metadata": {},
     "output_type": "display_data",
     "jetTransient": {
      "display_id": null
     }
    }
   ],
   "execution_count": 94
  },
  {
   "metadata": {},
   "cell_type": "markdown",
   "source": [
    "Scatter\n",
    "plot - we\n",
    "can\n",
    "use\n",
    "them\n",
    "to\n",
    "explore\n",
    "possible\n",
    "relationships\n",
    "between\n",
    "the\n",
    "columns\n",
    "of\n",
    "the\n",
    "dataframe."
   ],
   "id": "1ebe58f94caa5b86"
  },
  {
   "metadata": {
    "ExecuteTime": {
     "end_time": "2025-10-29T17:58:28.284430Z",
     "start_time": "2025-10-29T17:58:28.210113Z"
    }
   },
   "cell_type": "code",
   "source": "sns.scatterplot(df, x=\"current\", y=\"previous\")",
   "id": "be0e5bca6cf46717",
   "outputs": [
    {
     "data": {
      "text/plain": [
       "<Axes: xlabel='current', ylabel='previous'>"
      ]
     },
     "execution_count": 95,
     "metadata": {},
     "output_type": "execute_result"
    },
    {
     "data": {
      "text/plain": [
       "<Figure size 640x480 with 1 Axes>"
      ],
      "image/png": "[encoded data removed]"
     },
     "metadata": {},
     "output_type": "display_data",
     "jetTransient": {
      "display_id": null
     }
    }
   ],
   "execution_count": 95
  },
  {
   "metadata": {},
   "cell_type": "markdown",
   "source": [
    "Heatmap - is used\n",
    "to\n",
    "show\n",
    "correlation\n",
    "between\n",
    "all\n",
    "numerical\n",
    "values in a\n",
    "dataframe."
   ],
   "id": "3446c49d1ce88d66"
  },
  {
   "metadata": {
    "ExecuteTime": {
     "end_time": "2025-10-29T17:58:30.627345Z",
     "start_time": "2025-10-29T17:58:30.526105Z"
    }
   },
   "cell_type": "code",
   "source": "sns.heatmap(df.corr(numeric_only=True), annot=True)",
   "id": "6bf79ed9489a56cc",
   "outputs": [
    {
     "data": {
      "text/plain": [
       "<Axes: >"
      ]
     },
     "execution_count": 96,
     "metadata": {},
     "output_type": "execute_result"
    },
    {
     "data": {
      "text/plain": [
       "<Figure size 640x480 with 2 Axes>"
      ],
      "image/png": "[encoded data removed]"
     },
     "metadata": {},
     "output_type": "display_data",
     "jetTransient": {
      "display_id": null
     }
    }
   ],
   "execution_count": 96
  },
  {
   "metadata": {},
   "cell_type": "markdown",
   "source": [
    "Group\n",
    "items - we\n",
    "can\n",
    "use\n",
    "the\n",
    "groupby\n",
    "function\n",
    "to\n",
    "group\n",
    "data and analize\n",
    "it\n",
    "by\n",
    "mean, min, max and sum.We\n",
    "will\n",
    "group\n",
    "items\n",
    "by\n",
    "their\n",
    "type, current and previous\n",
    "prices."
   ],
   "id": "e9ebdba67dfa2fcc"
  },
  {
   "metadata": {
    "ExecuteTime": {
     "end_time": "2025-10-29T17:58:35.231225Z",
     "start_time": "2025-10-29T17:58:35.224946Z"
    }
   },
   "cell_type": "code",
   "source": "df.groupby(by=[\"type\"])[[\"current\", \"previous\"]].mean()",
   "id": "18b1ae1d45b35dfe",
   "outputs": [
    {
     "data": {
      "text/plain": [
       "                       current      previous\n",
       "type                                        \n",
       "ИНВЕРТЕР СПЛИТ СИСТЕМ  19865.0  25418.571429\n",
       "МОБИЛНИ КЛИМА УРЕДИ    19990.0           NaN"
      ],
      "text/html": [
       "<div>\n",
       "<style scoped>\n",
       "    .dataframe tbody tr th:only-of-type {\n",
       "        vertical-align: middle;\n",
       "    }\n",
       "\n",
       "    .dataframe tbody tr th {\n",
       "        vertical-align: top;\n",
       "    }\n",
       "\n",
       "    .dataframe thead th {\n",
       "        text-align: right;\n",
       "    }\n",
       "</style>\n",
       "<table border=\"1\" class=\"dataframe\">\n",
       "  <thead>\n",
       "    <tr style=\"text-align: right;\">\n",
       "      <th></th>\n",
       "      <th>current</th>\n",
       "      <th>previous</th>\n",
       "    </tr>\n",
       "    <tr>\n",
       "      <th>type</th>\n",
       "      <th></th>\n",
       "      <th></th>\n",
       "    </tr>\n",
       "  </thead>\n",
       "  <tbody>\n",
       "    <tr>\n",
       "      <th>ИНВЕРТЕР СПЛИТ СИСТЕМ</th>\n",
       "      <td>19865.0</td>\n",
       "      <td>25418.571429</td>\n",
       "    </tr>\n",
       "    <tr>\n",
       "      <th>МОБИЛНИ КЛИМА УРЕДИ</th>\n",
       "      <td>19990.0</td>\n",
       "      <td>NaN</td>\n",
       "    </tr>\n",
       "  </tbody>\n",
       "</table>\n",
       "</div>"
      ]
     },
     "execution_count": 97,
     "metadata": {},
     "output_type": "execute_result"
    }
   ],
   "execution_count": 97
  }
 ],
 "metadata": {
  "kernelspec": {
   "display_name": "Python 3",
   "language": "python",
   "name": "python3"
  },
  "language_info": {
   "codemirror_mode": {
    "name": "ipython",
    "version": 2
   },
   "file_extension": ".py",
   "mimetype": "text/x-python",
   "name": "python",
   "nbconvert_exporter": "python",
   "pygments_lexer": "ipython2",
   "version": "2.7.6"
  }
 },
 "nbformat": 4,
 "nbformat_minor": 5
}
