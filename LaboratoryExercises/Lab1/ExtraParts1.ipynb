{
 "cells": [
  {
   "metadata": {
    "collapsed": true
   },
   "cell_type": "markdown",
   "source": [
    "# Etxra Parts - Exercise 1\n",
    "## 27.10.2025 / 1\n",
    "\n",
    "Using Selenium, collect data for all the books available on the website https://books.toscrape.com/ by category. Then, visualize the distribution of books by category.\n",
    "\n",
    "Guidelines: First, extract all the categories available on the website along with the links that lead to each category’s page. Then, use these links to navigate to each category page. Finally, handle pagination on each page to collect all the books. Afterward, visualize the distribution."
   ],
   "id": "24ab2f2662b7eaa1"
  },
  {
   "metadata": {
    "ExecuteTime": {
     "end_time": "2025-10-29T23:03:18.741214Z",
     "start_time": "2025-10-29T23:03:18.738603Z"
    }
   },
   "cell_type": "code",
   "source": [
    "import time\n",
    "from selenium.webdriver import Chrome\n",
    "from selenium.webdriver.common.by import By"
   ],
   "id": "9ff89049bebb2e2a",
   "outputs": [],
   "execution_count": 27
  },
  {
   "metadata": {
    "ExecuteTime": {
     "end_time": "2025-10-29T23:02:31.364011Z",
     "start_time": "2025-10-29T23:02:29.055240Z"
    }
   },
   "cell_type": "code",
   "source": [
    "driver = Chrome()\n",
    "driver.get(\"https://books.toscrape.com\")"
   ],
   "id": "b829e6d90f55e48d",
   "outputs": [],
   "execution_count": 25
  },
  {
   "metadata": {
    "ExecuteTime": {
     "end_time": "2025-10-29T23:03:09.073723Z",
     "start_time": "2025-10-29T23:02:33.598030Z"
    }
   },
   "cell_type": "code",
   "source": [
    "category_info = {}\n",
    "book_statistics = {}\n",
    "\n",
    "side_categories_element = driver.find_elements(By.CSS_SELECTOR, \".side_categories ul li ul li a\")\n",
    "\n",
    "for element in side_categories_element:\n",
    "    category_name = element.text\n",
    "    category_url = element.get_attribute(\"href\")\n",
    "    category_info[category_name] = category_url\n",
    "\n",
    "for name, url in category_info.items():\n",
    "    driver.get(url)\n",
    "    books_elements = driver.find_elements(By.CSS_SELECTOR, \"ol li\")\n",
    "    book_statistics[name] = len(books_elements)\n",
    "\n",
    "book_statistics"
   ],
   "id": "cf9223d841509e7a",
   "outputs": [
    {
     "data": {
      "text/plain": [
       "{'Travel': 11,\n",
       " 'Mystery': 20,\n",
       " 'Historical Fiction': 20,\n",
       " 'Sequential Art': 20,\n",
       " 'Classics': 19,\n",
       " 'Philosophy': 11,\n",
       " 'Romance': 20,\n",
       " 'Womens Fiction': 17,\n",
       " 'Fiction': 20,\n",
       " 'Childrens': 20,\n",
       " 'Religion': 7,\n",
       " 'Nonfiction': 20,\n",
       " 'Music': 13,\n",
       " 'Default': 20,\n",
       " 'Science Fiction': 16,\n",
       " 'Sports and Games': 5,\n",
       " 'Add a comment': 20,\n",
       " 'Fantasy': 20,\n",
       " 'New Adult': 6,\n",
       " 'Young Adult': 20,\n",
       " 'Science': 14,\n",
       " 'Poetry': 19,\n",
       " 'Paranormal': 1,\n",
       " 'Art': 8,\n",
       " 'Psychology': 7,\n",
       " 'Autobiography': 9,\n",
       " 'Parenting': 1,\n",
       " 'Adult Fiction': 1,\n",
       " 'Humor': 10,\n",
       " 'Horror': 17,\n",
       " 'History': 18,\n",
       " 'Food and Drink': 20,\n",
       " 'Christian Fiction': 6,\n",
       " 'Business': 12,\n",
       " 'Biography': 5,\n",
       " 'Thriller': 11,\n",
       " 'Contemporary': 3,\n",
       " 'Spirituality': 6,\n",
       " 'Academic': 1,\n",
       " 'Self Help': 5,\n",
       " 'Historical': 2,\n",
       " 'Christian': 3,\n",
       " 'Suspense': 1,\n",
       " 'Short Stories': 1,\n",
       " 'Novels': 1,\n",
       " 'Health': 4,\n",
       " 'Politics': 3,\n",
       " 'Cultural': 1,\n",
       " 'Erotica': 1,\n",
       " 'Crime': 1}"
      ]
     },
     "execution_count": 26,
     "metadata": {},
     "output_type": "execute_result"
    }
   ],
   "execution_count": 26
  }
 ],
 "metadata": {
  "kernelspec": {
   "display_name": "Python 3",
   "language": "python",
   "name": "python3"
  },
  "language_info": {
   "codemirror_mode": {
    "name": "ipython",
    "version": 2
   },
   "file_extension": ".py",
   "mimetype": "text/x-python",
   "name": "python",
   "nbconvert_exporter": "python",
   "pygments_lexer": "ipython2",
   "version": "2.7.6"
  }
 },
 "nbformat": 4,
 "nbformat_minor": 5
}
